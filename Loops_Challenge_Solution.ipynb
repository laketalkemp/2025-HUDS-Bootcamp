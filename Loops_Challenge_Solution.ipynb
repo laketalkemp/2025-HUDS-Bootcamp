{
  "nbformat": 4,
  "nbformat_minor": 0,
  "metadata": {
    "colab": {
      "provenance": [],
      "authorship_tag": "ABX9TyNnGdF9LZ7pkEGwOI9wcaXE",
      "include_colab_link": true
    },
    "kernelspec": {
      "name": "python3",
      "display_name": "Python 3"
    },
    "language_info": {
      "name": "python"
    }
  },
  "cells": [
    {
      "cell_type": "markdown",
      "metadata": {
        "id": "view-in-github",
        "colab_type": "text"
      },
      "source": [
        "<a href=\"https://colab.research.google.com/github/laketalkemp/2025-HUDS-Bootcamp/blob/main/Loops_Challenge_Solution.ipynb\" target=\"_parent\"><img src=\"https://colab.research.google.com/assets/colab-badge.svg\" alt=\"Open In Colab\"/></a>"
      ]
    },
    {
      "cell_type": "markdown",
      "source": [
        "# Loops Challenge\n",
        "\n",
        "For this challenge, you will output a pattern that resembles a chessboard by using the letter X and O. The pattern needs to be an 8 x 8 matrix with alternating X and O in each row. Here is the catch, you must also ensure that alternate rows start with a different letter than the previous row.\n",
        "Here is the required output.\n",
        "\n",
        "You should make use of a looping structure in combination with a decision structure to achieve this result. Also, by default, Python’s `print()` function will add the newline character at the end of each `print()` function so to ensure that this newline does not create a long, single column output of the letters, use this syntax for your `print()` functions, print(`‘X’`, end=`’’`). Note the use of , end=`’’` after the letter to output.\n",
        "```\n",
        "XOXOXOXO\n",
        "OXOXOXOX\n",
        "XOXOXOXO\n",
        "OXOXOXOX\n",
        "XOXOXOXO\n",
        "OXOXOXOX\n",
        "XOXOXOXO\n",
        "OXOXOXOX\n",
        "```\n"
      ],
      "metadata": {
        "id": "l-T4sm39X0EA"
      }
    },
    {
      "cell_type": "code",
      "metadata": {
        "colab": {
          "base_uri": "https://localhost:8080/"
        },
        "id": "4ab9cc69",
        "outputId": "8cd6594c-8d4d-49a5-b127-afd344129d81"
      },
      "source": [
        "for i in range(8):\n",
        "    for j in range(8):\n",
        "        if i % 2 == 0:  # Even rows start with X\n",
        "            if j % 2 == 0:\n",
        "                print('X', end='')\n",
        "            else:\n",
        "                print('O', end='')\n",
        "        else:  # Odd rows start with O\n",
        "            if j % 2 == 0:\n",
        "                print('O', end='')\n",
        "            else:\n",
        "                print('X', end='')\n",
        "    print()"
      ],
      "execution_count": 3,
      "outputs": [
        {
          "output_type": "stream",
          "name": "stdout",
          "text": [
            "XOXOXOXO\n",
            "OXOXOXOX\n",
            "XOXOXOXO\n",
            "OXOXOXOX\n",
            "XOXOXOXO\n",
            "OXOXOXOX\n",
            "XOXOXOXO\n",
            "OXOXOXOX\n"
          ]
        }
      ]
    }
  ]
}