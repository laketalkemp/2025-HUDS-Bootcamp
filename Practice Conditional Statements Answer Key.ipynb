{
  "nbformat": 4,
  "nbformat_minor": 0,
  "metadata": {
    "colab": {
      "provenance": [],
      "include_colab_link": true
    },
    "kernelspec": {
      "name": "python3",
      "display_name": "Python 3"
    },
    "language_info": {
      "name": "python"
    }
  },
  "cells": [
    {
      "cell_type": "markdown",
      "metadata": {
        "id": "view-in-github",
        "colab_type": "text"
      },
      "source": [
        "<a href=\"https://colab.research.google.com/github/laketalkemp/2025-HUDS-Bootcamp/blob/main/Practice%20Conditional%20Statements%20Answer%20Key.ipynb\" target=\"_parent\"><img src=\"https://colab.research.google.com/assets/colab-badge.svg\" alt=\"Open In Colab\"/></a>"
      ]
    },
    {
      "cell_type": "markdown",
      "source": [
        "**Practice** **Operators**"
      ],
      "metadata": {
        "id": "voYilLi47O3X"
      }
    },
    {
      "cell_type": "markdown",
      "source": [
        "**Obesity is a very important risk factor to many diseases especially type 2 diabetes. However very little epidemiological information is available in Ghana to support intervention activities.**"
      ],
      "metadata": {
        "id": "AspRprUN95oq"
      }
    },
    {
      "cell_type": "markdown",
      "source": [
        "3. Create a Python formula/code that calculates the BMI of a person based on their weight (in kilograms) and height (in meters). **Create three variables: BMI is a measure of body fat based, an individual's weight, and an individual's height. ** Print the BMI as a float, and add comments describing the level of measurement.\n",
        "\n",
        "\n",
        "When using English measurements, ounces (oz) and fractions must be changed to decimal values. Then, calculate BMI by dividing weight in pounds (lb) by height in inches (in) squared and multiplying by a conversion factor of 703."
      ],
      "metadata": {
        "id": "wliSbVaW7aK4"
      }
    },
    {
      "cell_type": "code",
      "source": [
        "height = 72\n",
        "weight = 185\n",
        "bmi = (weight / (height**2)) * 703\n",
        "bmi"
      ],
      "metadata": {
        "id": "tP2OsvpJ8LQi",
        "colab": {
          "base_uri": "https://localhost:8080/"
        },
        "outputId": "34c5548e-bf3a-4c27-9ffa-a05cd1b74780"
      },
      "execution_count": null,
      "outputs": [
        {
          "output_type": "execute_result",
          "data": {
            "text/plain": [
              "25.087770061728396"
            ]
          },
          "metadata": {},
          "execution_count": 1
        }
      ]
    },
    {
      "cell_type": "markdown",
      "source": [
        "Let’s calculate Sam’s BMI using the English numeric system. His weight is 37 pounds and 4 ounces and his height is 41 1/2 inches."
      ],
      "metadata": {
        "id": "XJ0OO9BG9J1y"
      }
    },
    {
      "cell_type": "code",
      "source": [
        "# There are 16 ounces in one pound\n",
        "# Convert the 4 ounces to pounds and add to the pounds weight\n",
        "sam_weight = 37 + (4 / 16)\n",
        "sam_height = 41.5\n",
        "bmi = (sam_weight / (sam_height**2)) * 703\n",
        "bmi"
      ],
      "metadata": {
        "id": "sX5HxU0X9L7Y",
        "colab": {
          "base_uri": "https://localhost:8080/"
        },
        "outputId": "ddecf001-de2b-403b-e498-245f710c0ac0"
      },
      "execution_count": null,
      "outputs": [
        {
          "output_type": "execute_result",
          "data": {
            "text/plain": [
              "15.204964436057484"
            ]
          },
          "metadata": {},
          "execution_count": 3
        }
      ]
    },
    {
      "cell_type": "markdown",
      "source": [
        "**Create a conditional statement that confirms an individual's BMI classification based on their BMI value**"
      ],
      "metadata": {
        "id": "DFPvvzBv622B"
      }
    },
    {
      "cell_type": "markdown",
      "source": [
        "Severely underweight - BMI less than 16.5kg/m^2\n",
        "\n",
        "Underweight - BMI under 18.5 kg/m^2\n",
        "\n",
        "Normal weight - BMI greater than or equal to 18.5 to 24.9 kg/m^2\n",
        "\n",
        "Overweight – BMI greater than or equal to 25 to 29.9 kg/m^2\n",
        "\n",
        "Obesity – BMI greater than or equal to 30 kg/m^2\n",
        "\n",
        "  Obesity class I – BMI 30 to 34.9 kg/m^2\n",
        "\n",
        "  Obesity class II – BMI 35 to 39.9 kg/m^2\n",
        "\n",
        "  Obesity class III – BMI greater than or equal to 40 kg/m^2 (also referred to as severe, extreme, or massive obesity)"
      ],
      "metadata": {
        "id": "SMT3i1_T5tXY"
      }
    },
    {
      "cell_type": "markdown",
      "source": [
        "Try different heights and weights to test out each condition. This works with both imperial or metric units.\n",
        "* height = 1.82\n",
        "* weight = 120 (severely underweight), 140 (Normal Weight), 200 (Overweight), 250 (Obesity Class I), 275 (Obesity Class II), 295 (Obesity Class III)\n"
      ],
      "metadata": {
        "id": "KzG5mCthq1ZK"
      }
    },
    {
      "cell_type": "code",
      "source": [
        "height = 72\n",
        "weight = 295\n",
        "bmi = (weight / (height**2)) * 703\n",
        "print(bmi)\n",
        "\n",
        "'''\n",
        "Conditions:\n",
        "bmi < 16.5, print(\"Severely underweight\")\n",
        "bmi < 18.5 and >= 16.5, print(\"Underweight\")\n",
        "bmi <= 24.9 and >=18.5, print(\"Normal weight\")\n",
        "bmi <= 29.9 and >=25, print(\"Overweight\")\n",
        "bmi >= 30, nested if statement:\n",
        "  if bmi >=30 and <= 34.9, print(\"Obesity Class I\")\n",
        "  elif bmi >=35 and <=39.9, print(\"Obesity Class II\")\n",
        "  else print(\"Obesity Class III\")\n",
        "'''\n",
        "if bmi < 16.5:\n",
        "  print(\"Severely underweight\")\n",
        "elif bmi < 18.5:\n",
        "  print(\"Underweight\")\n",
        "elif bmi <= 24.9:\n",
        "  print(\"Normal weight\")\n",
        "elif bmi <= 29.9:\n",
        "  print(\"Overweight\")\n",
        "else:\n",
        "  if bmi <= 34.9:\n",
        "    print(\"Obesity Class I\")\n",
        "  elif bmi <= 39.9:\n",
        "    print(\"Obesity Class II\")\n",
        "  else:\n",
        "    print(\"Obesity Class III\")"
      ],
      "metadata": {
        "id": "f6eZDIgJ5v42",
        "outputId": "378ced50-d6b9-405f-f06f-307863f8bd4b",
        "colab": {
          "base_uri": "https://localhost:8080/"
        }
      },
      "execution_count": null,
      "outputs": [
        {
          "output_type": "stream",
          "name": "stdout",
          "text": [
            "40.004822530864196\n",
            "Obesity Class III\n"
          ]
        }
      ]
    },
    {
      "cell_type": "markdown",
      "source": [
        "Formula the Canada verision of BMI.\n",
        "\n",
        "Body Mass Index is a simple calculation using a person's height and weight. The formula is BMI = kg/m2 where kg is a person's weight in kilograms and m2 is their height in metres squared. A BMI of 25.0 or more is overweight, while the healthy range is 18.5 to 24.9. BMI applies to most adults 18-65 years."
      ],
      "metadata": {
        "id": "grbB28x78ZrM"
      }
    },
    {
      "cell_type": "code",
      "source": [
        "height = 72\n",
        "weight = 165\n",
        "bmi = (weight / (height**2)) * 703\n",
        "print(bmi)\n",
        "\n",
        "'''\n",
        "Conditions:\n",
        "bmi >= 18.5 and bmi <= 24.9, print(\"Healthy Range\")\n",
        "bmi >= 25, print(\"Overweight\")\n",
        "'''\n",
        "if bmi >= 18.5 and bmi <= 24.9:\n",
        "  print(\"Healthy Range\")\n",
        "elif bmi >= 25:\n",
        "  print(\"Overweight\")\n",
        "else:\n",
        "  print(\"Underweight\") # Assuming anything below 18.5 is underweight"
      ],
      "metadata": {
        "id": "1RBaeDNF8gQT",
        "colab": {
          "base_uri": "https://localhost:8080/"
        },
        "outputId": "c9476af1-943f-4430-878c-53b213d2c39a"
      },
      "execution_count": null,
      "outputs": [
        {
          "output_type": "stream",
          "name": "stdout",
          "text": [
            "22.375578703703706\n",
            "Healthy Range\n"
          ]
        }
      ]
    }
  ]
}