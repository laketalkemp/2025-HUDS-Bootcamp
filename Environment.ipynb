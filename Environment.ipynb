{
  "cells": [
    {
      "cell_type": "markdown",
      "metadata": {
        "id": "view-in-github",
        "colab_type": "text"
      },
      "source": [
        "<a href=\"https://colab.research.google.com/github/laketalkemp/2025-HUDS-Bootcamp/blob/main/Environment.ipynb\" target=\"_parent\"><img src=\"https://colab.research.google.com/assets/colab-badge.svg\" alt=\"Open In Colab\"/></a>"
      ]
    },
    {
      "cell_type": "markdown",
      "metadata": {
        "id": "zZ8dOWLWf7er"
      },
      "source": [
        "# Environment Settings"
      ]
    },
    {
      "cell_type": "code",
      "execution_count": null,
      "metadata": {
        "id": "a7HOMNpcf7es",
        "outputId": "38b06a2a-7d48-4636-8529-170526862570"
      },
      "outputs": [
        {
          "name": "stdout",
          "output_type": "stream",
          "text": [
            "Requirement already satisfied: pip in /opt/anaconda3/envs/tf/lib/python3.11/site-packages (25.1)\n",
            "Note: you may need to restart the kernel to use updated packages.\n"
          ]
        }
      ],
      "source": [
        "pip install pip"
      ]
    },
    {
      "cell_type": "code",
      "execution_count": null,
      "metadata": {
        "id": "EGrpM1D_f7es",
        "outputId": "ced40dde-6fcd-4fb0-bbe5-5dc2338dfaba"
      },
      "outputs": [
        {
          "name": "stdout",
          "output_type": "stream",
          "text": [
            "Requirement already satisfied: pip in /opt/anaconda3/envs/tf/lib/python3.11/site-packages (25.1)\n",
            "Collecting pip\n",
            "  Using cached pip-25.1.1-py3-none-any.whl.metadata (3.6 kB)\n",
            "Using cached pip-25.1.1-py3-none-any.whl (1.8 MB)\n",
            "Installing collected packages: pip\n",
            "  Attempting uninstall: pip\n",
            "    Found existing installation: pip 25.1\n",
            "    Uninstalling pip-25.1:\n",
            "      Successfully uninstalled pip-25.1\n",
            "Successfully installed pip-25.1.1\n",
            "Note: you may need to restart the kernel to use updated packages.\n"
          ]
        }
      ],
      "source": [
        "pip install --upgrade pip"
      ]
    },
    {
      "cell_type": "markdown",
      "metadata": {
        "id": "wyQm0GCzf7et"
      },
      "source": [
        "## Numerical Python and Data Structures"
      ]
    },
    {
      "cell_type": "code",
      "execution_count": null,
      "metadata": {
        "id": "VPv6l5urf7et",
        "outputId": "5e41b2bc-4949-4718-c672-edc98ec1243e"
      },
      "outputs": [
        {
          "name": "stdout",
          "output_type": "stream",
          "text": [
            "Requirement already satisfied: numpy in /opt/anaconda3/envs/tf/lib/python3.11/site-packages (1.23.5)\n",
            "Note: you may need to restart the kernel to use updated packages.\n"
          ]
        }
      ],
      "source": [
        "pip install numpy"
      ]
    },
    {
      "cell_type": "code",
      "execution_count": null,
      "metadata": {
        "id": "aCtuG4O7f7et",
        "outputId": "134abb0b-3e74-4dc8-db6b-306ca988fce2"
      },
      "outputs": [
        {
          "name": "stdout",
          "output_type": "stream",
          "text": [
            "Collecting pandas\n",
            "  Downloading pandas-2.2.3-cp311-cp311-macosx_11_0_arm64.whl.metadata (89 kB)\n",
            "Requirement already satisfied: numpy>=1.23.2 in /opt/anaconda3/envs/tf/lib/python3.11/site-packages (from pandas) (1.23.5)\n",
            "Requirement already satisfied: python-dateutil>=2.8.2 in /opt/anaconda3/envs/tf/lib/python3.11/site-packages (from pandas) (2.9.0.post0)\n",
            "Collecting pytz>=2020.1 (from pandas)\n",
            "  Downloading pytz-2025.2-py2.py3-none-any.whl.metadata (22 kB)\n",
            "Collecting tzdata>=2022.7 (from pandas)\n",
            "  Downloading tzdata-2025.2-py2.py3-none-any.whl.metadata (1.4 kB)\n",
            "Requirement already satisfied: six>=1.5 in /opt/anaconda3/envs/tf/lib/python3.11/site-packages (from python-dateutil>=2.8.2->pandas) (1.17.0)\n",
            "Downloading pandas-2.2.3-cp311-cp311-macosx_11_0_arm64.whl (11.3 MB)\n",
            "\u001b[2K   \u001b[90m━━━━━━━━━━━━━━━━━━━━━━━━━━━━━━━━━━━━━━━━\u001b[0m \u001b[32m11.3/11.3 MB\u001b[0m \u001b[31m32.8 MB/s\u001b[0m eta \u001b[36m0:00:00\u001b[0m \u001b[36m0:00:01\u001b[0m\n",
            "Downloading pytz-2025.2-py2.py3-none-any.whl (509 kB)\n",
            "Downloading tzdata-2025.2-py2.py3-none-any.whl (347 kB)\n",
            "Installing collected packages: pytz, tzdata, pandas\n",
            "\u001b[2K   \u001b[90m━━━━━━━━━━━━━━━━━━━━━━━━━━━━━━━━━━━━━━━━\u001b[0m \u001b[32m3/3\u001b[0m [pandas]2m2/3\u001b[0m [pandas]\n",
            "Successfully installed pandas-2.2.3 pytz-2025.2 tzdata-2025.2\n",
            "Note: you may need to restart the kernel to use updated packages.\n"
          ]
        }
      ],
      "source": [
        "pip install pandas"
      ]
    },
    {
      "cell_type": "markdown",
      "metadata": {
        "id": "FXxZCIhnf7et"
      },
      "source": [
        "## Visualization Libraries"
      ]
    },
    {
      "cell_type": "code",
      "execution_count": null,
      "metadata": {
        "id": "VzyvtBUPf7et",
        "outputId": "97601546-9bf5-448a-f17f-9dc356c66a42"
      },
      "outputs": [
        {
          "name": "stdout",
          "output_type": "stream",
          "text": [
            "Collecting matplotlib\n",
            "  Downloading matplotlib-3.10.1-cp311-cp311-macosx_11_0_arm64.whl.metadata (11 kB)\n",
            "Collecting contourpy>=1.0.1 (from matplotlib)\n",
            "  Downloading contourpy-1.3.2-cp311-cp311-macosx_11_0_arm64.whl.metadata (5.5 kB)\n",
            "Collecting cycler>=0.10 (from matplotlib)\n",
            "  Using cached cycler-0.12.1-py3-none-any.whl.metadata (3.8 kB)\n",
            "Collecting fonttools>=4.22.0 (from matplotlib)\n",
            "  Downloading fonttools-4.57.0-cp311-cp311-macosx_10_9_universal2.whl.metadata (102 kB)\n",
            "Collecting kiwisolver>=1.3.1 (from matplotlib)\n",
            "  Downloading kiwisolver-1.4.8-cp311-cp311-macosx_11_0_arm64.whl.metadata (6.2 kB)\n",
            "Requirement already satisfied: numpy>=1.23 in /opt/anaconda3/envs/tf/lib/python3.11/site-packages (from matplotlib) (1.23.5)\n",
            "Requirement already satisfied: packaging>=20.0 in /opt/anaconda3/envs/tf/lib/python3.11/site-packages (from matplotlib) (24.2)\n",
            "Collecting pillow>=8 (from matplotlib)\n",
            "  Downloading pillow-11.2.1-cp311-cp311-macosx_11_0_arm64.whl.metadata (8.9 kB)\n",
            "Collecting pyparsing>=2.3.1 (from matplotlib)\n",
            "  Using cached pyparsing-3.2.3-py3-none-any.whl.metadata (5.0 kB)\n",
            "Requirement already satisfied: python-dateutil>=2.7 in /opt/anaconda3/envs/tf/lib/python3.11/site-packages (from matplotlib) (2.9.0.post0)\n",
            "Requirement already satisfied: six>=1.5 in /opt/anaconda3/envs/tf/lib/python3.11/site-packages (from python-dateutil>=2.7->matplotlib) (1.17.0)\n",
            "Downloading matplotlib-3.10.1-cp311-cp311-macosx_11_0_arm64.whl (8.0 MB)\n",
            "\u001b[2K   \u001b[90m━━━━━━━━━━━━━━━━━━━━━━━━━━━━━━━━━━━━━━━━\u001b[0m \u001b[32m8.0/8.0 MB\u001b[0m \u001b[31m30.2 MB/s\u001b[0m eta \u001b[36m0:00:00\u001b[0ma \u001b[36m0:00:01\u001b[0m\n",
            "\u001b[?25hDownloading contourpy-1.3.2-cp311-cp311-macosx_11_0_arm64.whl (254 kB)\n",
            "Using cached cycler-0.12.1-py3-none-any.whl (8.3 kB)\n",
            "Downloading fonttools-4.57.0-cp311-cp311-macosx_10_9_universal2.whl (2.8 MB)\n",
            "\u001b[2K   \u001b[90m━━━━━━━━━━━━━━━━━━━━━━━━━━━━━━━━━━━━━━━━\u001b[0m \u001b[32m2.8/2.8 MB\u001b[0m \u001b[31m29.7 MB/s\u001b[0m eta \u001b[36m0:00:00\u001b[0m\n",
            "\u001b[?25hDownloading kiwisolver-1.4.8-cp311-cp311-macosx_11_0_arm64.whl (65 kB)\n",
            "Downloading pillow-11.2.1-cp311-cp311-macosx_11_0_arm64.whl (3.0 MB)\n",
            "\u001b[2K   \u001b[90m━━━━━━━━━━━━━━━━━━━━━━━━━━━━━━━━━━━━━━━━\u001b[0m \u001b[32m3.0/3.0 MB\u001b[0m \u001b[31m32.2 MB/s\u001b[0m eta \u001b[36m0:00:00\u001b[0m\n",
            "\u001b[?25hUsing cached pyparsing-3.2.3-py3-none-any.whl (111 kB)\n",
            "Installing collected packages: pyparsing, pillow, kiwisolver, fonttools, cycler, contourpy, matplotlib\n",
            "\u001b[2K   \u001b[90m━━━━━━━━━━━━━━━━━━━━━━━━━━━━━━━━━━━━━━━━\u001b[0m \u001b[32m7/7\u001b[0m [matplotlib]7\u001b[0m [matplotlib]\n",
            "\u001b[1A\u001b[2KSuccessfully installed contourpy-1.3.2 cycler-0.12.1 fonttools-4.57.0 kiwisolver-1.4.8 matplotlib-3.10.1 pillow-11.2.1 pyparsing-3.2.3\n",
            "Note: you may need to restart the kernel to use updated packages.\n"
          ]
        }
      ],
      "source": [
        "pip install matplotlib"
      ]
    },
    {
      "cell_type": "code",
      "execution_count": null,
      "metadata": {
        "id": "Rw33NtkUf7et",
        "outputId": "f0967dce-9c56-4b66-c001-1904b3b066cb"
      },
      "outputs": [
        {
          "name": "stdout",
          "output_type": "stream",
          "text": [
            "Collecting seaborn\n",
            "  Using cached seaborn-0.13.2-py3-none-any.whl.metadata (5.4 kB)\n",
            "Requirement already satisfied: numpy!=1.24.0,>=1.20 in /opt/anaconda3/envs/tf/lib/python3.11/site-packages (from seaborn) (1.23.5)\n",
            "Requirement already satisfied: pandas>=1.2 in /opt/anaconda3/envs/tf/lib/python3.11/site-packages (from seaborn) (2.2.3)\n",
            "Requirement already satisfied: matplotlib!=3.6.1,>=3.4 in /opt/anaconda3/envs/tf/lib/python3.11/site-packages (from seaborn) (3.10.1)\n",
            "Requirement already satisfied: contourpy>=1.0.1 in /opt/anaconda3/envs/tf/lib/python3.11/site-packages (from matplotlib!=3.6.1,>=3.4->seaborn) (1.3.2)\n",
            "Requirement already satisfied: cycler>=0.10 in /opt/anaconda3/envs/tf/lib/python3.11/site-packages (from matplotlib!=3.6.1,>=3.4->seaborn) (0.12.1)\n",
            "Requirement already satisfied: fonttools>=4.22.0 in /opt/anaconda3/envs/tf/lib/python3.11/site-packages (from matplotlib!=3.6.1,>=3.4->seaborn) (4.57.0)\n",
            "Requirement already satisfied: kiwisolver>=1.3.1 in /opt/anaconda3/envs/tf/lib/python3.11/site-packages (from matplotlib!=3.6.1,>=3.4->seaborn) (1.4.8)\n",
            "Requirement already satisfied: packaging>=20.0 in /opt/anaconda3/envs/tf/lib/python3.11/site-packages (from matplotlib!=3.6.1,>=3.4->seaborn) (24.2)\n",
            "Requirement already satisfied: pillow>=8 in /opt/anaconda3/envs/tf/lib/python3.11/site-packages (from matplotlib!=3.6.1,>=3.4->seaborn) (11.2.1)\n",
            "Requirement already satisfied: pyparsing>=2.3.1 in /opt/anaconda3/envs/tf/lib/python3.11/site-packages (from matplotlib!=3.6.1,>=3.4->seaborn) (3.2.3)\n",
            "Requirement already satisfied: python-dateutil>=2.7 in /opt/anaconda3/envs/tf/lib/python3.11/site-packages (from matplotlib!=3.6.1,>=3.4->seaborn) (2.9.0.post0)\n",
            "Requirement already satisfied: pytz>=2020.1 in /opt/anaconda3/envs/tf/lib/python3.11/site-packages (from pandas>=1.2->seaborn) (2025.2)\n",
            "Requirement already satisfied: tzdata>=2022.7 in /opt/anaconda3/envs/tf/lib/python3.11/site-packages (from pandas>=1.2->seaborn) (2025.2)\n",
            "Requirement already satisfied: six>=1.5 in /opt/anaconda3/envs/tf/lib/python3.11/site-packages (from python-dateutil>=2.7->matplotlib!=3.6.1,>=3.4->seaborn) (1.17.0)\n",
            "Using cached seaborn-0.13.2-py3-none-any.whl (294 kB)\n",
            "Installing collected packages: seaborn\n",
            "Successfully installed seaborn-0.13.2\n",
            "Note: you may need to restart the kernel to use updated packages.\n"
          ]
        }
      ],
      "source": [
        "pip install seaborn"
      ]
    },
    {
      "cell_type": "code",
      "execution_count": null,
      "metadata": {
        "id": "JIzQv09nf7et",
        "outputId": "a57a4ae8-5bd4-49cb-d1be-18e9b544229c"
      },
      "outputs": [
        {
          "name": "stdout",
          "output_type": "stream",
          "text": [
            "Collecting plotly\n",
            "  Using cached plotly-6.0.1-py3-none-any.whl.metadata (6.7 kB)\n",
            "Collecting narwhals>=1.15.1 (from plotly)\n",
            "  Using cached narwhals-1.37.1-py3-none-any.whl.metadata (9.3 kB)\n",
            "Requirement already satisfied: packaging in /opt/anaconda3/envs/tf/lib/python3.11/site-packages (from plotly) (24.2)\n",
            "Using cached plotly-6.0.1-py3-none-any.whl (14.8 MB)\n",
            "Using cached narwhals-1.37.1-py3-none-any.whl (332 kB)\n",
            "Installing collected packages: narwhals, plotly\n",
            "\u001b[2K   \u001b[90m━━━━━━━━━━━━━━━━━━━━━━━━━━━━━━━━━━━━━━━━\u001b[0m \u001b[32m2/2\u001b[0m [plotly]2m1/2\u001b[0m [plotly]\n",
            "\u001b[1A\u001b[2KSuccessfully installed narwhals-1.37.1 plotly-6.0.1\n",
            "Note: you may need to restart the kernel to use updated packages.\n"
          ]
        }
      ],
      "source": [
        "pip install plotly"
      ]
    },
    {
      "cell_type": "code",
      "execution_count": null,
      "metadata": {
        "id": "g072BbCqf7eu",
        "outputId": "3518d76d-02e9-4327-a044-646fbe908c8a"
      },
      "outputs": [
        {
          "name": "stdout",
          "output_type": "stream",
          "text": [
            "Collecting bokeh\n",
            "  Downloading bokeh-3.7.2-py3-none-any.whl.metadata (12 kB)\n",
            "Requirement already satisfied: Jinja2>=2.9 in /opt/anaconda3/envs/tf/lib/python3.11/site-packages (from bokeh) (3.1.6)\n",
            "Requirement already satisfied: contourpy>=1.2 in /opt/anaconda3/envs/tf/lib/python3.11/site-packages (from bokeh) (1.3.2)\n",
            "Requirement already satisfied: narwhals>=1.13 in /opt/anaconda3/envs/tf/lib/python3.11/site-packages (from bokeh) (1.37.1)\n",
            "Requirement already satisfied: numpy>=1.16 in /opt/anaconda3/envs/tf/lib/python3.11/site-packages (from bokeh) (1.23.5)\n",
            "Requirement already satisfied: packaging>=16.8 in /opt/anaconda3/envs/tf/lib/python3.11/site-packages (from bokeh) (24.2)\n",
            "Requirement already satisfied: pandas>=1.2 in /opt/anaconda3/envs/tf/lib/python3.11/site-packages (from bokeh) (2.2.3)\n",
            "Requirement already satisfied: pillow>=7.1.0 in /opt/anaconda3/envs/tf/lib/python3.11/site-packages (from bokeh) (11.2.1)\n",
            "Requirement already satisfied: PyYAML>=3.10 in /opt/anaconda3/envs/tf/lib/python3.11/site-packages (from bokeh) (6.0.2)\n",
            "Requirement already satisfied: tornado>=6.2 in /opt/anaconda3/envs/tf/lib/python3.11/site-packages (from bokeh) (6.4.2)\n",
            "Collecting xyzservices>=2021.09.1 (from bokeh)\n",
            "  Downloading xyzservices-2025.4.0-py3-none-any.whl.metadata (4.3 kB)\n",
            "Requirement already satisfied: MarkupSafe>=2.0 in /opt/anaconda3/envs/tf/lib/python3.11/site-packages (from Jinja2>=2.9->bokeh) (3.0.2)\n",
            "Requirement already satisfied: python-dateutil>=2.8.2 in /opt/anaconda3/envs/tf/lib/python3.11/site-packages (from pandas>=1.2->bokeh) (2.9.0.post0)\n",
            "Requirement already satisfied: pytz>=2020.1 in /opt/anaconda3/envs/tf/lib/python3.11/site-packages (from pandas>=1.2->bokeh) (2025.2)\n",
            "Requirement already satisfied: tzdata>=2022.7 in /opt/anaconda3/envs/tf/lib/python3.11/site-packages (from pandas>=1.2->bokeh) (2025.2)\n",
            "Requirement already satisfied: six>=1.5 in /opt/anaconda3/envs/tf/lib/python3.11/site-packages (from python-dateutil>=2.8.2->pandas>=1.2->bokeh) (1.17.0)\n",
            "Downloading bokeh-3.7.2-py3-none-any.whl (7.0 MB)\n",
            "\u001b[2K   \u001b[90m━━━━━━━━━━━━━━━━━━━━━━━━━━━━━━━━━━━━━━━━\u001b[0m \u001b[32m7.0/7.0 MB\u001b[0m \u001b[31m20.9 MB/s\u001b[0m eta \u001b[36m0:00:00\u001b[0ma \u001b[36m0:00:01\u001b[0m\n",
            "\u001b[?25hDownloading xyzservices-2025.4.0-py3-none-any.whl (90 kB)\n",
            "Installing collected packages: xyzservices, bokeh\n",
            "\u001b[2K   \u001b[90m━━━━━━━━━━━━━━━━━━━━━━━━━━━━━━━━━━━━━━━━\u001b[0m \u001b[32m2/2\u001b[0m [bokeh]32m1/2\u001b[0m [bokeh]\n",
            "\u001b[1A\u001b[2KSuccessfully installed bokeh-3.7.2 xyzservices-2025.4.0\n",
            "Note: you may need to restart the kernel to use updated packages.\n"
          ]
        }
      ],
      "source": [
        "pip install bokeh"
      ]
    },
    {
      "cell_type": "markdown",
      "metadata": {
        "id": "DuJecA2Bf7eu"
      },
      "source": [
        "# GIS Visualizations"
      ]
    },
    {
      "cell_type": "code",
      "execution_count": null,
      "metadata": {
        "id": "08EB63N5f7eu",
        "outputId": "f46bd987-4ee6-4257-bd5e-f90b26435d2f"
      },
      "outputs": [
        {
          "name": "stdout",
          "output_type": "stream",
          "text": [
            "Collecting folium\n",
            "  Using cached folium-0.19.5-py2.py3-none-any.whl.metadata (4.1 kB)\n",
            "Collecting branca>=0.6.0 (from folium)\n",
            "  Using cached branca-0.8.1-py3-none-any.whl.metadata (1.5 kB)\n",
            "Requirement already satisfied: jinja2>=2.9 in /opt/anaconda3/envs/tf/lib/python3.11/site-packages (from folium) (3.1.6)\n",
            "Requirement already satisfied: numpy in /opt/anaconda3/envs/tf/lib/python3.11/site-packages (from folium) (1.23.5)\n",
            "Requirement already satisfied: requests in /opt/anaconda3/envs/tf/lib/python3.11/site-packages (from folium) (2.32.3)\n",
            "Requirement already satisfied: xyzservices in /opt/anaconda3/envs/tf/lib/python3.11/site-packages (from folium) (2025.4.0)\n",
            "Requirement already satisfied: MarkupSafe>=2.0 in /opt/anaconda3/envs/tf/lib/python3.11/site-packages (from jinja2>=2.9->folium) (3.0.2)\n",
            "Requirement already satisfied: charset-normalizer<4,>=2 in /opt/anaconda3/envs/tf/lib/python3.11/site-packages (from requests->folium) (3.3.2)\n",
            "Requirement already satisfied: idna<4,>=2.5 in /opt/anaconda3/envs/tf/lib/python3.11/site-packages (from requests->folium) (3.7)\n",
            "Requirement already satisfied: urllib3<3,>=1.21.1 in /opt/anaconda3/envs/tf/lib/python3.11/site-packages (from requests->folium) (2.3.0)\n",
            "Requirement already satisfied: certifi>=2017.4.17 in /opt/anaconda3/envs/tf/lib/python3.11/site-packages (from requests->folium) (2025.4.26)\n",
            "Using cached folium-0.19.5-py2.py3-none-any.whl (110 kB)\n",
            "Using cached branca-0.8.1-py3-none-any.whl (26 kB)\n",
            "Installing collected packages: branca, folium\n",
            "\u001b[2K   \u001b[90m━━━━━━━━━━━━━━━━━━━━━━━━━━━━━━━━━━━━━━━━\u001b[0m \u001b[32m2/2\u001b[0m [folium]\n",
            "\u001b[1A\u001b[2KSuccessfully installed branca-0.8.1 folium-0.19.5\n",
            "Note: you may need to restart the kernel to use updated packages.\n"
          ]
        }
      ],
      "source": [
        "pip install folium"
      ]
    },
    {
      "cell_type": "code",
      "execution_count": null,
      "metadata": {
        "id": "DKdp4EJIf7eu",
        "outputId": "ae84c12a-2c34-4762-94a3-e12e2c4ee544"
      },
      "outputs": [
        {
          "name": "stdout",
          "output_type": "stream",
          "text": [
            "Collecting Cartopy\n",
            "  Downloading Cartopy-0.24.1-cp311-cp311-macosx_11_0_arm64.whl.metadata (7.9 kB)\n",
            "Requirement already satisfied: numpy>=1.23 in /opt/anaconda3/envs/tf/lib/python3.11/site-packages (from Cartopy) (1.23.5)\n",
            "Requirement already satisfied: matplotlib>=3.6 in /opt/anaconda3/envs/tf/lib/python3.11/site-packages (from Cartopy) (3.10.1)\n",
            "Collecting shapely>=1.8 (from Cartopy)\n",
            "  Downloading shapely-2.1.0-cp311-cp311-macosx_11_0_arm64.whl.metadata (6.8 kB)\n",
            "Requirement already satisfied: packaging>=21 in /opt/anaconda3/envs/tf/lib/python3.11/site-packages (from Cartopy) (24.2)\n",
            "Collecting pyshp>=2.3 (from Cartopy)\n",
            "  Using cached pyshp-2.3.1-py2.py3-none-any.whl.metadata (55 kB)\n",
            "Collecting pyproj>=3.3.1 (from Cartopy)\n",
            "  Downloading pyproj-3.7.1-cp311-cp311-macosx_14_0_arm64.whl.metadata (31 kB)\n",
            "Requirement already satisfied: contourpy>=1.0.1 in /opt/anaconda3/envs/tf/lib/python3.11/site-packages (from matplotlib>=3.6->Cartopy) (1.3.2)\n",
            "Requirement already satisfied: cycler>=0.10 in /opt/anaconda3/envs/tf/lib/python3.11/site-packages (from matplotlib>=3.6->Cartopy) (0.12.1)\n",
            "Requirement already satisfied: fonttools>=4.22.0 in /opt/anaconda3/envs/tf/lib/python3.11/site-packages (from matplotlib>=3.6->Cartopy) (4.57.0)\n",
            "Requirement already satisfied: kiwisolver>=1.3.1 in /opt/anaconda3/envs/tf/lib/python3.11/site-packages (from matplotlib>=3.6->Cartopy) (1.4.8)\n",
            "Requirement already satisfied: pillow>=8 in /opt/anaconda3/envs/tf/lib/python3.11/site-packages (from matplotlib>=3.6->Cartopy) (11.2.1)\n",
            "Requirement already satisfied: pyparsing>=2.3.1 in /opt/anaconda3/envs/tf/lib/python3.11/site-packages (from matplotlib>=3.6->Cartopy) (3.2.3)\n",
            "Requirement already satisfied: python-dateutil>=2.7 in /opt/anaconda3/envs/tf/lib/python3.11/site-packages (from matplotlib>=3.6->Cartopy) (2.9.0.post0)\n",
            "Requirement already satisfied: certifi in /opt/anaconda3/envs/tf/lib/python3.11/site-packages (from pyproj>=3.3.1->Cartopy) (2025.4.26)\n",
            "Requirement already satisfied: six>=1.5 in /opt/anaconda3/envs/tf/lib/python3.11/site-packages (from python-dateutil>=2.7->matplotlib>=3.6->Cartopy) (1.17.0)\n",
            "Downloading Cartopy-0.24.1-cp311-cp311-macosx_11_0_arm64.whl (11.0 MB)\n",
            "\u001b[2K   \u001b[90m━━━━━━━━━━━━━━━━━━━━━━━━━━━━━━━━━━━━━━━━\u001b[0m \u001b[32m11.0/11.0 MB\u001b[0m \u001b[31m15.3 MB/s\u001b[0m eta \u001b[36m0:00:00\u001b[0m \u001b[36m0:00:01\u001b[0m\n",
            "\u001b[?25hDownloading pyproj-3.7.1-cp311-cp311-macosx_14_0_arm64.whl (4.7 MB)\n",
            "\u001b[2K   \u001b[90m━━━━━━━━━━━━━━━━━━━━━━━━━━━━━━━━━━━━━━━━\u001b[0m \u001b[32m4.7/4.7 MB\u001b[0m \u001b[31m34.2 MB/s\u001b[0m eta \u001b[36m0:00:00\u001b[0m\n",
            "\u001b[?25hUsing cached pyshp-2.3.1-py2.py3-none-any.whl (46 kB)\n",
            "Downloading shapely-2.1.0-cp311-cp311-macosx_11_0_arm64.whl (1.6 MB)\n",
            "\u001b[2K   \u001b[90m━━━━━━━━━━━━━━━━━━━━━━━━━━━━━━━━━━━━━━━━\u001b[0m \u001b[32m1.6/1.6 MB\u001b[0m \u001b[31m28.5 MB/s\u001b[0m eta \u001b[36m0:00:00\u001b[0m\n",
            "Installing collected packages: shapely, pyshp, pyproj, Cartopy\n",
            "\u001b[2K   \u001b[90m━━━━━━━━━━━━━━━━━━━━━━━━━━━━━━━━━━━━━━━━\u001b[0m \u001b[32m4/4\u001b[0m [Cartopy]m3/4\u001b[0m [Cartopy]\n",
            "\u001b[1A\u001b[2KSuccessfully installed Cartopy-0.24.1 pyproj-3.7.1 pyshp-2.3.1 shapely-2.1.0\n",
            "Note: you may need to restart the kernel to use updated packages.\n"
          ]
        }
      ],
      "source": [
        "pip install Cartopy"
      ]
    },
    {
      "cell_type": "code",
      "execution_count": null,
      "metadata": {
        "id": "5g3L-Bn-f7eu",
        "outputId": "03bc03ae-1ecd-4615-8556-119cc66c18e3"
      },
      "outputs": [
        {
          "name": "stdout",
          "output_type": "stream",
          "text": [
            "Collecting geopandas\n",
            "  Using cached geopandas-1.0.1-py3-none-any.whl.metadata (2.2 kB)\n",
            "Requirement already satisfied: numpy>=1.22 in /opt/anaconda3/envs/tf/lib/python3.11/site-packages (from geopandas) (1.23.5)\n",
            "Collecting pyogrio>=0.7.2 (from geopandas)\n",
            "  Downloading pyogrio-0.10.0-cp311-cp311-macosx_12_0_arm64.whl.metadata (5.5 kB)\n",
            "Requirement already satisfied: packaging in /opt/anaconda3/envs/tf/lib/python3.11/site-packages (from geopandas) (24.2)\n",
            "Requirement already satisfied: pandas>=1.4.0 in /opt/anaconda3/envs/tf/lib/python3.11/site-packages (from geopandas) (2.2.3)\n",
            "Requirement already satisfied: pyproj>=3.3.0 in /opt/anaconda3/envs/tf/lib/python3.11/site-packages (from geopandas) (3.7.1)\n",
            "Requirement already satisfied: shapely>=2.0.0 in /opt/anaconda3/envs/tf/lib/python3.11/site-packages (from geopandas) (2.1.0)\n",
            "Requirement already satisfied: python-dateutil>=2.8.2 in /opt/anaconda3/envs/tf/lib/python3.11/site-packages (from pandas>=1.4.0->geopandas) (2.9.0.post0)\n",
            "Requirement already satisfied: pytz>=2020.1 in /opt/anaconda3/envs/tf/lib/python3.11/site-packages (from pandas>=1.4.0->geopandas) (2025.2)\n",
            "Requirement already satisfied: tzdata>=2022.7 in /opt/anaconda3/envs/tf/lib/python3.11/site-packages (from pandas>=1.4.0->geopandas) (2025.2)\n",
            "Requirement already satisfied: certifi in /opt/anaconda3/envs/tf/lib/python3.11/site-packages (from pyogrio>=0.7.2->geopandas) (2025.4.26)\n",
            "Requirement already satisfied: six>=1.5 in /opt/anaconda3/envs/tf/lib/python3.11/site-packages (from python-dateutil>=2.8.2->pandas>=1.4.0->geopandas) (1.17.0)\n",
            "Using cached geopandas-1.0.1-py3-none-any.whl (323 kB)\n",
            "Downloading pyogrio-0.10.0-cp311-cp311-macosx_12_0_arm64.whl (15.1 MB)\n",
            "\u001b[2K   \u001b[90m━━━━━━━━━━━━━━━━━━━━━━━━━━━━━━━━━━━━━━━━\u001b[0m \u001b[32m15.1/15.1 MB\u001b[0m \u001b[31m33.4 MB/s\u001b[0m eta \u001b[36m0:00:00\u001b[0ma \u001b[36m0:00:01\u001b[0m\n",
            "Installing collected packages: pyogrio, geopandas\n",
            "\u001b[2K   \u001b[90m━━━━━━━━━━━━━━━━━━━━━━━━━━━━━━━━━━━━━━━━\u001b[0m \u001b[32m2/2\u001b[0m [geopandas]\n",
            "\u001b[1A\u001b[2KSuccessfully installed geopandas-1.0.1 pyogrio-0.10.0\n",
            "Note: you may need to restart the kernel to use updated packages.\n"
          ]
        }
      ],
      "source": [
        "pip install geopandas"
      ]
    },
    {
      "cell_type": "code",
      "execution_count": null,
      "metadata": {
        "id": "unNcqoVVf7eu",
        "outputId": "c5ca1315-9a59-444c-f2b0-80e5d816eb9b"
      },
      "outputs": [
        {
          "name": "stdout",
          "output_type": "stream",
          "text": [
            "Channels:\n",
            " - esri\n",
            " - defaults\n",
            "Platform: osx-arm64\n",
            "doneecting package metadata (repodata.json): - \n",
            "failedg environment: \\ \n",
            "\n",
            "PackagesNotFoundError: The following packages are not available from current channels:\n",
            "\n",
            "  - arcpy=3.4*\n",
            "\n",
            "Current channels:\n",
            "\n",
            "  - https://conda.anaconda.org/esri\n",
            "  - defaults\n",
            "  - https://repo.anaconda.com/pkgs/main\n",
            "  - https://repo.anaconda.com/pkgs/r\n",
            "\n",
            "To search for alternate channels that may provide the conda package you're\n",
            "looking for, navigate to\n",
            "\n",
            "    https://anaconda.org\n",
            "\n",
            "and use the search bar at the top of the page.\n",
            "\n",
            "\n",
            "\n",
            "Note: you may need to restart the kernel to use updated packages.\n"
          ]
        }
      ],
      "source": [
        "conda install arcpy=3.4 -c esri"
      ]
    },
    {
      "cell_type": "code",
      "execution_count": null,
      "metadata": {
        "id": "xICeNPOzf7eu",
        "outputId": "0df10377-8542-419a-e9ec-5044d43ebf35"
      },
      "outputs": [
        {
          "name": "stdout",
          "output_type": "stream",
          "text": [
            "Requirement already satisfied: pyproj in /opt/anaconda3/envs/tf/lib/python3.11/site-packages (3.7.1)\n",
            "Requirement already satisfied: certifi in /opt/anaconda3/envs/tf/lib/python3.11/site-packages (from pyproj) (2025.4.26)\n",
            "Note: you may need to restart the kernel to use updated packages.\n"
          ]
        }
      ],
      "source": [
        "pip install pyproj"
      ]
    },
    {
      "cell_type": "code",
      "execution_count": null,
      "metadata": {
        "id": "rdXp_z-bf7eu",
        "outputId": "187921f7-dc0b-432a-b648-031a25c4dc65"
      },
      "outputs": [
        {
          "name": "stdout",
          "output_type": "stream",
          "text": [
            "Collecting rsgis\n",
            "  Using cached rsgis-0.0.3-py3-none-any.whl.metadata (3.4 kB)\n",
            "Using cached rsgis-0.0.3-py3-none-any.whl (11 kB)\n",
            "Installing collected packages: rsgis\n",
            "Successfully installed rsgis-0.0.3\n",
            "Note: you may need to restart the kernel to use updated packages.\n"
          ]
        }
      ],
      "source": [
        "pip install rsgis"
      ]
    },
    {
      "cell_type": "code",
      "execution_count": null,
      "metadata": {
        "id": "eF4VzbaYf7eu",
        "outputId": "abdf0d48-a4b5-4748-f81d-b2b0d397125b"
      },
      "outputs": [
        {
          "name": "stdout",
          "output_type": "stream",
          "text": [
            "Collecting ipyleaflet\n",
            "  Using cached ipyleaflet-0.19.2-py3-none-any.whl.metadata (5.3 kB)\n",
            "Requirement already satisfied: branca>=0.5.0 in /opt/anaconda3/envs/tf/lib/python3.11/site-packages (from ipyleaflet) (0.8.1)\n",
            "Collecting ipywidgets<9,>=7.6.0 (from ipyleaflet)\n",
            "  Using cached ipywidgets-8.1.6-py3-none-any.whl.metadata (2.4 kB)\n",
            "Collecting jupyter-leaflet<0.20,>=0.19 (from ipyleaflet)\n",
            "  Using cached jupyter_leaflet-0.19.2-py3-none-any.whl.metadata (2.4 kB)\n",
            "Collecting traittypes<3,>=0.2.1 (from ipyleaflet)\n",
            "  Using cached traittypes-0.2.1-py2.py3-none-any.whl.metadata (1.0 kB)\n",
            "Requirement already satisfied: xyzservices>=2021.8.1 in /opt/anaconda3/envs/tf/lib/python3.11/site-packages (from ipyleaflet) (2025.4.0)\n",
            "Requirement already satisfied: comm>=0.1.3 in /opt/anaconda3/envs/tf/lib/python3.11/site-packages (from ipywidgets<9,>=7.6.0->ipyleaflet) (0.2.1)\n",
            "Requirement already satisfied: ipython>=6.1.0 in /opt/anaconda3/envs/tf/lib/python3.11/site-packages (from ipywidgets<9,>=7.6.0->ipyleaflet) (9.1.0)\n",
            "Requirement already satisfied: traitlets>=4.3.1 in /opt/anaconda3/envs/tf/lib/python3.11/site-packages (from ipywidgets<9,>=7.6.0->ipyleaflet) (5.14.3)\n",
            "Collecting widgetsnbextension~=4.0.14 (from ipywidgets<9,>=7.6.0->ipyleaflet)\n",
            "  Using cached widgetsnbextension-4.0.14-py3-none-any.whl.metadata (1.6 kB)\n",
            "Collecting jupyterlab_widgets~=3.0.14 (from ipywidgets<9,>=7.6.0->ipyleaflet)\n",
            "  Using cached jupyterlab_widgets-3.0.14-py3-none-any.whl.metadata (4.1 kB)\n",
            "Requirement already satisfied: jinja2>=3 in /opt/anaconda3/envs/tf/lib/python3.11/site-packages (from branca>=0.5.0->ipyleaflet) (3.1.6)\n",
            "Requirement already satisfied: decorator in /opt/anaconda3/envs/tf/lib/python3.11/site-packages (from ipython>=6.1.0->ipywidgets<9,>=7.6.0->ipyleaflet) (5.1.1)\n",
            "Requirement already satisfied: ipython-pygments-lexers in /opt/anaconda3/envs/tf/lib/python3.11/site-packages (from ipython>=6.1.0->ipywidgets<9,>=7.6.0->ipyleaflet) (1.1.1)\n",
            "Requirement already satisfied: jedi>=0.16 in /opt/anaconda3/envs/tf/lib/python3.11/site-packages (from ipython>=6.1.0->ipywidgets<9,>=7.6.0->ipyleaflet) (0.19.2)\n",
            "Requirement already satisfied: matplotlib-inline in /opt/anaconda3/envs/tf/lib/python3.11/site-packages (from ipython>=6.1.0->ipywidgets<9,>=7.6.0->ipyleaflet) (0.1.6)\n",
            "Requirement already satisfied: pexpect>4.3 in /opt/anaconda3/envs/tf/lib/python3.11/site-packages (from ipython>=6.1.0->ipywidgets<9,>=7.6.0->ipyleaflet) (4.8.0)\n",
            "Requirement already satisfied: prompt_toolkit<3.1.0,>=3.0.41 in /opt/anaconda3/envs/tf/lib/python3.11/site-packages (from ipython>=6.1.0->ipywidgets<9,>=7.6.0->ipyleaflet) (3.0.43)\n",
            "Requirement already satisfied: pygments>=2.4.0 in /opt/anaconda3/envs/tf/lib/python3.11/site-packages (from ipython>=6.1.0->ipywidgets<9,>=7.6.0->ipyleaflet) (2.19.1)\n",
            "Requirement already satisfied: stack_data in /opt/anaconda3/envs/tf/lib/python3.11/site-packages (from ipython>=6.1.0->ipywidgets<9,>=7.6.0->ipyleaflet) (0.2.0)\n",
            "Requirement already satisfied: typing_extensions>=4.6 in /opt/anaconda3/envs/tf/lib/python3.11/site-packages (from ipython>=6.1.0->ipywidgets<9,>=7.6.0->ipyleaflet) (4.12.2)\n",
            "Requirement already satisfied: wcwidth in /opt/anaconda3/envs/tf/lib/python3.11/site-packages (from prompt_toolkit<3.1.0,>=3.0.41->ipython>=6.1.0->ipywidgets<9,>=7.6.0->ipyleaflet) (0.2.5)\n",
            "Requirement already satisfied: parso<0.9.0,>=0.8.4 in /opt/anaconda3/envs/tf/lib/python3.11/site-packages (from jedi>=0.16->ipython>=6.1.0->ipywidgets<9,>=7.6.0->ipyleaflet) (0.8.4)\n",
            "Requirement already satisfied: MarkupSafe>=2.0 in /opt/anaconda3/envs/tf/lib/python3.11/site-packages (from jinja2>=3->branca>=0.5.0->ipyleaflet) (3.0.2)\n",
            "Requirement already satisfied: ptyprocess>=0.5 in /opt/anaconda3/envs/tf/lib/python3.11/site-packages (from pexpect>4.3->ipython>=6.1.0->ipywidgets<9,>=7.6.0->ipyleaflet) (0.7.0)\n",
            "Requirement already satisfied: executing in /opt/anaconda3/envs/tf/lib/python3.11/site-packages (from stack_data->ipython>=6.1.0->ipywidgets<9,>=7.6.0->ipyleaflet) (0.8.3)\n",
            "Requirement already satisfied: asttokens in /opt/anaconda3/envs/tf/lib/python3.11/site-packages (from stack_data->ipython>=6.1.0->ipywidgets<9,>=7.6.0->ipyleaflet) (3.0.0)\n",
            "Requirement already satisfied: pure-eval in /opt/anaconda3/envs/tf/lib/python3.11/site-packages (from stack_data->ipython>=6.1.0->ipywidgets<9,>=7.6.0->ipyleaflet) (0.2.2)\n",
            "Using cached ipyleaflet-0.19.2-py3-none-any.whl (31 kB)\n",
            "Using cached ipywidgets-8.1.6-py3-none-any.whl (139 kB)\n",
            "Using cached jupyter_leaflet-0.19.2-py3-none-any.whl (1.1 MB)\n",
            "Using cached jupyterlab_widgets-3.0.14-py3-none-any.whl (213 kB)\n",
            "Using cached traittypes-0.2.1-py2.py3-none-any.whl (8.6 kB)\n",
            "Using cached widgetsnbextension-4.0.14-py3-none-any.whl (2.2 MB)\n",
            "Installing collected packages: widgetsnbextension, traittypes, jupyterlab_widgets, jupyter-leaflet, ipywidgets, ipyleaflet\n",
            "\u001b[2K   \u001b[90m━━━━━━━━━━━━━━━━━━━━━━━━━━━━━━━━━━━━━━━━\u001b[0m \u001b[32m6/6\u001b[0m [ipyleaflet]\n",
            "Successfully installed ipyleaflet-0.19.2 ipywidgets-8.1.6 jupyter-leaflet-0.19.2 jupyterlab_widgets-3.0.14 traittypes-0.2.1 widgetsnbextension-4.0.14\n",
            "Note: you may need to restart the kernel to use updated packages.\n"
          ]
        }
      ],
      "source": [
        "pip install ipyleaflet"
      ]
    },
    {
      "cell_type": "code",
      "execution_count": null,
      "metadata": {
        "id": "p30zBS9Vf7eu",
        "outputId": "8cf26b85-0119-44f1-e48b-d6483357f97b"
      },
      "outputs": [
        {
          "name": "stdout",
          "output_type": "stream",
          "text": [
            "Collecting lidar\n",
            "  Using cached lidar-0.8.4-py2.py3-none-any.whl.metadata (20 kB)\n",
            "Requirement already satisfied: Click>=6.0 in /opt/anaconda3/envs/tf/lib/python3.11/site-packages (from lidar) (8.1.8)\n",
            "Collecting gdown (from lidar)\n",
            "  Using cached gdown-5.2.0-py3-none-any.whl.metadata (5.8 kB)\n",
            "Requirement already satisfied: geopandas in /opt/anaconda3/envs/tf/lib/python3.11/site-packages (from lidar) (1.0.1)\n",
            "Requirement already satisfied: matplotlib in /opt/anaconda3/envs/tf/lib/python3.11/site-packages (from lidar) (3.10.1)\n",
            "Requirement already satisfied: numpy in /opt/anaconda3/envs/tf/lib/python3.11/site-packages (from lidar) (1.23.5)\n",
            "Requirement already satisfied: pandas in /opt/anaconda3/envs/tf/lib/python3.11/site-packages (from lidar) (2.2.3)\n",
            "Requirement already satisfied: pyshp in /opt/anaconda3/envs/tf/lib/python3.11/site-packages (from lidar) (2.3.1)\n",
            "Collecting scikit-image (from lidar)\n",
            "  Downloading scikit_image-0.25.2-cp311-cp311-macosx_12_0_arm64.whl.metadata (14 kB)\n",
            "Requirement already satisfied: scipy in /opt/anaconda3/envs/tf/lib/python3.11/site-packages (from lidar) (1.15.2)\n",
            "Collecting whitebox (from lidar)\n",
            "  Using cached whitebox-2.3.6-py2.py3-none-any.whl.metadata (11 kB)\n",
            "Requirement already satisfied: beautifulsoup4 in /opt/anaconda3/envs/tf/lib/python3.11/site-packages (from gdown->lidar) (4.12.3)\n",
            "Collecting filelock (from gdown->lidar)\n",
            "  Using cached filelock-3.18.0-py3-none-any.whl.metadata (2.9 kB)\n",
            "Requirement already satisfied: requests[socks] in /opt/anaconda3/envs/tf/lib/python3.11/site-packages (from gdown->lidar) (2.32.3)\n",
            "Collecting tqdm (from gdown->lidar)\n",
            "  Using cached tqdm-4.67.1-py3-none-any.whl.metadata (57 kB)\n",
            "Requirement already satisfied: soupsieve>1.2 in /opt/anaconda3/envs/tf/lib/python3.11/site-packages (from beautifulsoup4->gdown->lidar) (2.5)\n",
            "Requirement already satisfied: pyogrio>=0.7.2 in /opt/anaconda3/envs/tf/lib/python3.11/site-packages (from geopandas->lidar) (0.10.0)\n",
            "Requirement already satisfied: packaging in /opt/anaconda3/envs/tf/lib/python3.11/site-packages (from geopandas->lidar) (24.2)\n",
            "Requirement already satisfied: pyproj>=3.3.0 in /opt/anaconda3/envs/tf/lib/python3.11/site-packages (from geopandas->lidar) (3.7.1)\n",
            "Requirement already satisfied: shapely>=2.0.0 in /opt/anaconda3/envs/tf/lib/python3.11/site-packages (from geopandas->lidar) (2.1.0)\n",
            "Requirement already satisfied: python-dateutil>=2.8.2 in /opt/anaconda3/envs/tf/lib/python3.11/site-packages (from pandas->lidar) (2.9.0.post0)\n",
            "Requirement already satisfied: pytz>=2020.1 in /opt/anaconda3/envs/tf/lib/python3.11/site-packages (from pandas->lidar) (2025.2)\n",
            "Requirement already satisfied: tzdata>=2022.7 in /opt/anaconda3/envs/tf/lib/python3.11/site-packages (from pandas->lidar) (2025.2)\n",
            "Requirement already satisfied: certifi in /opt/anaconda3/envs/tf/lib/python3.11/site-packages (from pyogrio>=0.7.2->geopandas->lidar) (2025.4.26)\n",
            "Requirement already satisfied: six>=1.5 in /opt/anaconda3/envs/tf/lib/python3.11/site-packages (from python-dateutil>=2.8.2->pandas->lidar) (1.17.0)\n",
            "Requirement already satisfied: contourpy>=1.0.1 in /opt/anaconda3/envs/tf/lib/python3.11/site-packages (from matplotlib->lidar) (1.3.2)\n",
            "Requirement already satisfied: cycler>=0.10 in /opt/anaconda3/envs/tf/lib/python3.11/site-packages (from matplotlib->lidar) (0.12.1)\n",
            "Requirement already satisfied: fonttools>=4.22.0 in /opt/anaconda3/envs/tf/lib/python3.11/site-packages (from matplotlib->lidar) (4.57.0)\n",
            "Requirement already satisfied: kiwisolver>=1.3.1 in /opt/anaconda3/envs/tf/lib/python3.11/site-packages (from matplotlib->lidar) (1.4.8)\n",
            "Requirement already satisfied: pillow>=8 in /opt/anaconda3/envs/tf/lib/python3.11/site-packages (from matplotlib->lidar) (11.2.1)\n",
            "Requirement already satisfied: pyparsing>=2.3.1 in /opt/anaconda3/envs/tf/lib/python3.11/site-packages (from matplotlib->lidar) (3.2.3)\n",
            "Requirement already satisfied: charset-normalizer<4,>=2 in /opt/anaconda3/envs/tf/lib/python3.11/site-packages (from requests[socks]->gdown->lidar) (3.3.2)\n",
            "Requirement already satisfied: idna<4,>=2.5 in /opt/anaconda3/envs/tf/lib/python3.11/site-packages (from requests[socks]->gdown->lidar) (3.7)\n",
            "Requirement already satisfied: urllib3<3,>=1.21.1 in /opt/anaconda3/envs/tf/lib/python3.11/site-packages (from requests[socks]->gdown->lidar) (2.3.0)\n",
            "Requirement already satisfied: PySocks!=1.5.7,>=1.5.6 in /opt/anaconda3/envs/tf/lib/python3.11/site-packages (from requests[socks]->gdown->lidar) (1.7.1)\n",
            "Collecting numpy (from lidar)\n",
            "  Downloading numpy-2.2.5-cp311-cp311-macosx_14_0_arm64.whl.metadata (62 kB)\n",
            "Collecting networkx>=3.0 (from scikit-image->lidar)\n",
            "  Using cached networkx-3.4.2-py3-none-any.whl.metadata (6.3 kB)\n",
            "Collecting imageio!=2.35.0,>=2.33 (from scikit-image->lidar)\n",
            "  Downloading imageio-2.37.0-py3-none-any.whl.metadata (5.2 kB)\n",
            "Collecting tifffile>=2022.8.12 (from scikit-image->lidar)\n",
            "  Downloading tifffile-2025.3.30-py3-none-any.whl.metadata (32 kB)\n",
            "Collecting lazy-loader>=0.4 (from scikit-image->lidar)\n",
            "  Using cached lazy_loader-0.4-py3-none-any.whl.metadata (7.6 kB)\n",
            "Using cached lidar-0.8.4-py2.py3-none-any.whl (1.2 MB)\n",
            "Using cached gdown-5.2.0-py3-none-any.whl (18 kB)\n",
            "Using cached filelock-3.18.0-py3-none-any.whl (16 kB)\n",
            "Downloading scikit_image-0.25.2-cp311-cp311-macosx_12_0_arm64.whl (13.2 MB)\n",
            "\u001b[2K   \u001b[90m━━━━━━━━━━━━━━━━━━━━━━━━━━━━━━━━━━━━━━━━\u001b[0m \u001b[32m13.2/13.2 MB\u001b[0m \u001b[31m26.3 MB/s\u001b[0m eta \u001b[36m0:00:00\u001b[0ma \u001b[36m0:00:01\u001b[0m\n",
            "Downloading imageio-2.37.0-py3-none-any.whl (315 kB)\n",
            "Using cached lazy_loader-0.4-py3-none-any.whl (12 kB)\n",
            "Using cached networkx-3.4.2-py3-none-any.whl (1.7 MB)\n",
            "Downloading numpy-2.2.5-cp311-cp311-macosx_14_0_arm64.whl (5.4 MB)\n",
            "\u001b[2K   \u001b[90m━━━━━━━━━━━━━━━━━━━━━━━━━━━━━━━━━━━━━━━━\u001b[0m \u001b[32m5.4/5.4 MB\u001b[0m \u001b[31m32.0 MB/s\u001b[0m eta \u001b[36m0:00:00\u001b[0m\n",
            "\u001b[?25hDownloading tifffile-2025.3.30-py3-none-any.whl (226 kB)\n",
            "Using cached tqdm-4.67.1-py3-none-any.whl (78 kB)\n",
            "Using cached whitebox-2.3.6-py2.py3-none-any.whl (74 kB)\n",
            "Installing collected packages: whitebox, tqdm, numpy, networkx, lazy-loader, filelock, tifffile, imageio, scikit-image, gdown, lidar\n",
            "\u001b[2K  Attempting uninstall: numpy\n",
            "\u001b[2K    Found existing installation: numpy 1.23.5\n",
            "\u001b[2K    Uninstalling numpy-1.23.5:\n",
            "\u001b[2K      Successfully uninstalled numpy-1.23.5\n",
            "\u001b[2K   \u001b[90m━━━━━━━━━━━━━━━━━━━━━━━━━━━━━━━━━━━━━━━━\u001b[0m \u001b[32m11/11\u001b[0m [lidar]m 8/11\u001b[0m [scikit-image]\n",
            "\u001b[1A\u001b[2K\u001b[31mERROR: pip's dependency resolver does not currently take into account all the packages that are installed. This behaviour is the source of the following dependency conflicts.\n",
            "tensorflow 2.12.0 requires numpy<1.24,>=1.22, but you have numpy 2.2.5 which is incompatible.\n",
            "tensorflow 2.12.0 requires wrapt<1.15,>=1.11.0, but you have wrapt 1.17.0 which is incompatible.\u001b[0m\u001b[31m\n",
            "\u001b[0mSuccessfully installed filelock-3.18.0 gdown-5.2.0 imageio-2.37.0 lazy-loader-0.4 lidar-0.8.4 networkx-3.4.2 numpy-2.2.5 scikit-image-0.25.2 tifffile-2025.3.30 tqdm-4.67.1 whitebox-2.3.6\n",
            "Note: you may need to restart the kernel to use updated packages.\n"
          ]
        }
      ],
      "source": [
        "pip install lidar"
      ]
    },
    {
      "cell_type": "markdown",
      "metadata": {
        "id": "UCkXm6Kef7eu"
      },
      "source": [
        "## Scientific Python"
      ]
    },
    {
      "cell_type": "code",
      "execution_count": null,
      "metadata": {
        "id": "0T_w-3rDf7eu",
        "outputId": "fde9cdf4-917b-403a-8e5b-f94f150d066c"
      },
      "outputs": [
        {
          "name": "stdout",
          "output_type": "stream",
          "text": [
            "Requirement already satisfied: scipy in /opt/anaconda3/envs/tf/lib/python3.11/site-packages (1.15.2)\n",
            "Requirement already satisfied: numpy<2.5,>=1.23.5 in /opt/anaconda3/envs/tf/lib/python3.11/site-packages (from scipy) (2.2.5)\n",
            "Note: you may need to restart the kernel to use updated packages.\n"
          ]
        }
      ],
      "source": [
        "pip install scipy"
      ]
    },
    {
      "cell_type": "code",
      "execution_count": null,
      "metadata": {
        "id": "Wy8Xi9O-f7eu",
        "outputId": "164d85b0-86ce-4e09-cf07-25553327dc72"
      },
      "outputs": [
        {
          "name": "stdout",
          "output_type": "stream",
          "text": [
            "Collecting statsmodels\n",
            "  Downloading statsmodels-0.14.4-cp311-cp311-macosx_11_0_arm64.whl.metadata (9.2 kB)\n",
            "Requirement already satisfied: numpy<3,>=1.22.3 in /opt/anaconda3/envs/tf/lib/python3.11/site-packages (from statsmodels) (2.2.5)\n",
            "Requirement already satisfied: scipy!=1.9.2,>=1.8 in /opt/anaconda3/envs/tf/lib/python3.11/site-packages (from statsmodels) (1.15.2)\n",
            "Requirement already satisfied: pandas!=2.1.0,>=1.4 in /opt/anaconda3/envs/tf/lib/python3.11/site-packages (from statsmodels) (2.2.3)\n",
            "Collecting patsy>=0.5.6 (from statsmodels)\n",
            "  Using cached patsy-1.0.1-py2.py3-none-any.whl.metadata (3.3 kB)\n",
            "Requirement already satisfied: packaging>=21.3 in /opt/anaconda3/envs/tf/lib/python3.11/site-packages (from statsmodels) (24.2)\n",
            "Requirement already satisfied: python-dateutil>=2.8.2 in /opt/anaconda3/envs/tf/lib/python3.11/site-packages (from pandas!=2.1.0,>=1.4->statsmodels) (2.9.0.post0)\n",
            "Requirement already satisfied: pytz>=2020.1 in /opt/anaconda3/envs/tf/lib/python3.11/site-packages (from pandas!=2.1.0,>=1.4->statsmodels) (2025.2)\n",
            "Requirement already satisfied: tzdata>=2022.7 in /opt/anaconda3/envs/tf/lib/python3.11/site-packages (from pandas!=2.1.0,>=1.4->statsmodels) (2025.2)\n",
            "Requirement already satisfied: six>=1.5 in /opt/anaconda3/envs/tf/lib/python3.11/site-packages (from python-dateutil>=2.8.2->pandas!=2.1.0,>=1.4->statsmodels) (1.17.0)\n",
            "Downloading statsmodels-0.14.4-cp311-cp311-macosx_11_0_arm64.whl (9.9 MB)\n",
            "\u001b[2K   \u001b[90m━━━━━━━━━━━━━━━━━━━━━━━━━━━━━━━━━━━━━━━━\u001b[0m \u001b[32m9.9/9.9 MB\u001b[0m \u001b[31m4.4 MB/s\u001b[0m eta \u001b[36m0:00:00\u001b[0ma \u001b[36m0:00:01\u001b[0m\n",
            "\u001b[?25hUsing cached patsy-1.0.1-py2.py3-none-any.whl (232 kB)\n",
            "Installing collected packages: patsy, statsmodels\n",
            "\u001b[2K   \u001b[90m━━━━━━━━━━━━━━━━━━━━━━━━━━━━━━━━━━━━━━━━\u001b[0m \u001b[32m2/2\u001b[0m [statsmodels]\u001b[0m [statsmodels]\n",
            "Successfully installed patsy-1.0.1 statsmodels-0.14.4\n",
            "Note: you may need to restart the kernel to use updated packages.\n"
          ]
        }
      ],
      "source": [
        "pip install statsmodels"
      ]
    },
    {
      "cell_type": "code",
      "execution_count": null,
      "metadata": {
        "id": "wZPzrDs9f7eu",
        "outputId": "e157c0f9-0b35-4505-9c5b-153a7859084c"
      },
      "outputs": [
        {
          "name": "stdout",
          "output_type": "stream",
          "text": [
            "Collecting scikit-learn\n",
            "  Downloading scikit_learn-1.6.1-cp311-cp311-macosx_12_0_arm64.whl.metadata (31 kB)\n",
            "Requirement already satisfied: numpy>=1.19.5 in /opt/anaconda3/envs/tf/lib/python3.11/site-packages (from scikit-learn) (2.2.5)\n",
            "Requirement already satisfied: scipy>=1.6.0 in /opt/anaconda3/envs/tf/lib/python3.11/site-packages (from scikit-learn) (1.15.2)\n",
            "Collecting joblib>=1.2.0 (from scikit-learn)\n",
            "  Downloading joblib-1.5.0-py3-none-any.whl.metadata (5.6 kB)\n",
            "Collecting threadpoolctl>=3.1.0 (from scikit-learn)\n",
            "  Downloading threadpoolctl-3.6.0-py3-none-any.whl.metadata (13 kB)\n",
            "Downloading scikit_learn-1.6.1-cp311-cp311-macosx_12_0_arm64.whl (11.1 MB)\n",
            "\u001b[2K   \u001b[90m━━━━━━━━━━━━━━━━━━━━━━━━━━━━━━━━━━━━━━━━\u001b[0m \u001b[32m11.1/11.1 MB\u001b[0m \u001b[31m32.4 MB/s\u001b[0m eta \u001b[36m0:00:00\u001b[0m \u001b[36m0:00:01\u001b[0m\n",
            "Downloading joblib-1.5.0-py3-none-any.whl (307 kB)\n",
            "Downloading threadpoolctl-3.6.0-py3-none-any.whl (18 kB)\n",
            "Installing collected packages: threadpoolctl, joblib, scikit-learn\n",
            "\u001b[2K   \u001b[90m━━━━━━━━━━━━━━━━━━━━━━━━━━━━━━━━━━━━━━━━\u001b[0m \u001b[32m3/3\u001b[0m [scikit-learn][0m [scikit-learn]\n",
            "Successfully installed joblib-1.5.0 scikit-learn-1.6.1 threadpoolctl-3.6.0\n",
            "Note: you may need to restart the kernel to use updated packages.\n"
          ]
        }
      ],
      "source": [
        "pip install -U scikit-learn"
      ]
    },
    {
      "cell_type": "markdown",
      "metadata": {
        "id": "aImLwlqvf7eu"
      },
      "source": [
        "## Machine Learning and Deep Learning"
      ]
    },
    {
      "cell_type": "code",
      "execution_count": null,
      "metadata": {
        "id": "o4EXzK6Vf7eu",
        "outputId": "348b8e98-bfe1-4ef9-ec52-18f5f1afe7ae"
      },
      "outputs": [
        {
          "name": "stdout",
          "output_type": "stream",
          "text": [
            "Requirement already satisfied: keras in /opt/anaconda3/envs/tf/lib/python3.11/site-packages (2.12.0)\n",
            "Collecting keras\n",
            "  Using cached keras-3.9.2-py3-none-any.whl.metadata (6.1 kB)\n",
            "Requirement already satisfied: absl-py in /opt/anaconda3/envs/tf/lib/python3.11/site-packages (from keras) (2.1.0)\n",
            "Requirement already satisfied: numpy in /opt/anaconda3/envs/tf/lib/python3.11/site-packages (from keras) (2.2.5)\n",
            "Collecting rich (from keras)\n",
            "  Using cached rich-14.0.0-py3-none-any.whl.metadata (18 kB)\n",
            "Collecting namex (from keras)\n",
            "  Using cached namex-0.0.9-py3-none-any.whl.metadata (322 bytes)\n",
            "Requirement already satisfied: h5py in /opt/anaconda3/envs/tf/lib/python3.11/site-packages (from keras) (3.12.1)\n",
            "Collecting optree (from keras)\n",
            "  Downloading optree-0.15.0-cp311-cp311-macosx_11_0_arm64.whl.metadata (48 kB)\n",
            "Requirement already satisfied: ml-dtypes in /opt/anaconda3/envs/tf/lib/python3.11/site-packages (from keras) (0.5.1)\n",
            "Requirement already satisfied: packaging in /opt/anaconda3/envs/tf/lib/python3.11/site-packages (from keras) (24.2)\n",
            "Requirement already satisfied: typing-extensions>=4.5.0 in /opt/anaconda3/envs/tf/lib/python3.11/site-packages (from optree->keras) (4.12.2)\n",
            "Collecting markdown-it-py>=2.2.0 (from rich->keras)\n",
            "  Using cached markdown_it_py-3.0.0-py3-none-any.whl.metadata (6.9 kB)\n",
            "Requirement already satisfied: pygments<3.0.0,>=2.13.0 in /opt/anaconda3/envs/tf/lib/python3.11/site-packages (from rich->keras) (2.19.1)\n",
            "Collecting mdurl~=0.1 (from markdown-it-py>=2.2.0->rich->keras)\n",
            "  Using cached mdurl-0.1.2-py3-none-any.whl.metadata (1.6 kB)\n",
            "Using cached keras-3.9.2-py3-none-any.whl (1.3 MB)\n",
            "Using cached namex-0.0.9-py3-none-any.whl (5.8 kB)\n",
            "Downloading optree-0.15.0-cp311-cp311-macosx_11_0_arm64.whl (338 kB)\n",
            "Using cached rich-14.0.0-py3-none-any.whl (243 kB)\n",
            "Using cached markdown_it_py-3.0.0-py3-none-any.whl (87 kB)\n",
            "Using cached mdurl-0.1.2-py3-none-any.whl (10.0 kB)\n",
            "Installing collected packages: namex, optree, mdurl, markdown-it-py, rich, keras\n",
            "\u001b[2K  Attempting uninstall: keras\n",
            "\u001b[2K    Found existing installation: keras 2.12.0\u001b[90m╺\u001b[0m\u001b[90m━━━━━━\u001b[0m \u001b[32m5/6\u001b[0m [keras]\n",
            "\u001b[2K    Uninstalling keras-2.12.0:━━━━━━━\u001b[0m\u001b[90m╺\u001b[0m\u001b[90m━━━━━━\u001b[0m \u001b[32m5/6\u001b[0m [keras]\n",
            "\u001b[2K      Successfully uninstalled keras-2.12.090m╺\u001b[0m\u001b[90m━━━━━━\u001b[0m \u001b[32m5/6\u001b[0m [keras]\n",
            "\u001b[2K   \u001b[90m━━━━━━━━━━━━━━━━━━━━━━━━━━━━━━━━━━━━━━━━\u001b[0m \u001b[32m6/6\u001b[0m [keras]32m5/6\u001b[0m [keras]\n",
            "\u001b[1A\u001b[2K\u001b[31mERROR: pip's dependency resolver does not currently take into account all the packages that are installed. This behaviour is the source of the following dependency conflicts.\n",
            "tensorflow 2.12.0 requires keras<2.13,>=2.12.0, but you have keras 3.9.2 which is incompatible.\n",
            "tensorflow 2.12.0 requires numpy<1.24,>=1.22, but you have numpy 2.2.5 which is incompatible.\n",
            "tensorflow 2.12.0 requires wrapt<1.15,>=1.11.0, but you have wrapt 1.17.0 which is incompatible.\u001b[0m\u001b[31m\n",
            "\u001b[0mSuccessfully installed keras-3.9.2 markdown-it-py-3.0.0 mdurl-0.1.2 namex-0.0.9 optree-0.15.0 rich-14.0.0\n",
            "Note: you may need to restart the kernel to use updated packages.\n"
          ]
        }
      ],
      "source": [
        "pip install --upgrade keras"
      ]
    },
    {
      "cell_type": "code",
      "execution_count": null,
      "metadata": {
        "id": "QpFcGGidf7eu"
      },
      "outputs": [],
      "source": [
        "#conda create --name tf tensorflow"
      ]
    },
    {
      "cell_type": "code",
      "execution_count": null,
      "metadata": {
        "id": "zs5r6U4nf7ev"
      },
      "outputs": [],
      "source": [
        "#pip install tensorflow"
      ]
    },
    {
      "cell_type": "code",
      "execution_count": null,
      "metadata": {
        "id": "FAQcQZDDf7ev",
        "outputId": "b5041052-2bc8-4115-92b0-0e016ea2c109"
      },
      "outputs": [
        {
          "name": "stdout",
          "output_type": "stream",
          "text": [
            "Collecting torch\n",
            "  Downloading torch-2.7.0-cp311-none-macosx_11_0_arm64.whl.metadata (29 kB)\n",
            "Collecting torchvision\n",
            "  Downloading torchvision-0.22.0-cp311-cp311-macosx_11_0_arm64.whl.metadata (6.1 kB)\n",
            "Collecting torchaudio\n",
            "  Downloading torchaudio-2.7.0-cp311-cp311-macosx_11_0_arm64.whl.metadata (6.6 kB)\n",
            "Requirement already satisfied: filelock in /opt/anaconda3/envs/tf/lib/python3.11/site-packages (from torch) (3.18.0)\n",
            "Requirement already satisfied: typing-extensions>=4.10.0 in /opt/anaconda3/envs/tf/lib/python3.11/site-packages (from torch) (4.12.2)\n",
            "Collecting sympy>=1.13.3 (from torch)\n",
            "  Using cached sympy-1.14.0-py3-none-any.whl.metadata (12 kB)\n",
            "Requirement already satisfied: networkx in /opt/anaconda3/envs/tf/lib/python3.11/site-packages (from torch) (3.4.2)\n",
            "Requirement already satisfied: jinja2 in /opt/anaconda3/envs/tf/lib/python3.11/site-packages (from torch) (3.1.6)\n",
            "Collecting fsspec (from torch)\n",
            "  Downloading fsspec-2025.3.2-py3-none-any.whl.metadata (11 kB)\n",
            "Requirement already satisfied: numpy in /opt/anaconda3/envs/tf/lib/python3.11/site-packages (from torchvision) (2.2.5)\n",
            "Requirement already satisfied: pillow!=8.3.*,>=5.3.0 in /opt/anaconda3/envs/tf/lib/python3.11/site-packages (from torchvision) (11.2.1)\n",
            "Collecting mpmath<1.4,>=1.1.0 (from sympy>=1.13.3->torch)\n",
            "  Using cached mpmath-1.3.0-py3-none-any.whl.metadata (8.6 kB)\n",
            "Requirement already satisfied: MarkupSafe>=2.0 in /opt/anaconda3/envs/tf/lib/python3.11/site-packages (from jinja2->torch) (3.0.2)\n",
            "Downloading torch-2.7.0-cp311-none-macosx_11_0_arm64.whl (68.6 MB)\n",
            "\u001b[2K   \u001b[90m━━━━━━━━━━━━━━━━━━━━━━━━━━━━━━━━━━━━━━━━\u001b[0m \u001b[32m68.6/68.6 MB\u001b[0m \u001b[31m34.7 MB/s\u001b[0m eta \u001b[36m0:00:00\u001b[0ma \u001b[36m0:00:01\u001b[0m\n",
            "Downloading torchvision-0.22.0-cp311-cp311-macosx_11_0_arm64.whl (1.9 MB)\n",
            "\u001b[2K   \u001b[90m━━━━━━━━━━━━━━━━━━━━━━━━━━━━━━━━━━━━━━━━\u001b[0m \u001b[32m1.9/1.9 MB\u001b[0m \u001b[31m33.5 MB/s\u001b[0m eta \u001b[36m0:00:00\u001b[0m\n",
            "\u001b[?25hDownloading torchaudio-2.7.0-cp311-cp311-macosx_11_0_arm64.whl (1.8 MB)\n",
            "\u001b[2K   \u001b[90m━━━━━━━━━━━━━━━━━━━━━━━━━━━━━━━━━━━━━━━━\u001b[0m \u001b[32m1.8/1.8 MB\u001b[0m \u001b[31m32.0 MB/s\u001b[0m eta \u001b[36m0:00:00\u001b[0m\n",
            "Using cached sympy-1.14.0-py3-none-any.whl (6.3 MB)\n",
            "Using cached mpmath-1.3.0-py3-none-any.whl (536 kB)\n",
            "Downloading fsspec-2025.3.2-py3-none-any.whl (194 kB)\n",
            "Installing collected packages: mpmath, sympy, fsspec, torch, torchvision, torchaudio\n",
            "\u001b[2K   \u001b[90m━━━━━━━━━━━━━━━━━━━━━━━━━━━━━━━━━━━━━━━━\u001b[0m \u001b[32m6/6\u001b[0m [torchaudio]6\u001b[0m [torchaudio]]\n",
            "\u001b[1A\u001b[2KSuccessfully installed fsspec-2025.3.2 mpmath-1.3.0 sympy-1.14.0 torch-2.7.0 torchaudio-2.7.0 torchvision-0.22.0\n",
            "Note: you may need to restart the kernel to use updated packages.\n"
          ]
        }
      ],
      "source": [
        "pip install torch torchvision torchaudio"
      ]
    },
    {
      "cell_type": "markdown",
      "metadata": {
        "id": "rw47WVs9f7ev"
      },
      "source": [
        "## Large Data Arrays"
      ]
    },
    {
      "cell_type": "code",
      "execution_count": null,
      "metadata": {
        "id": "DZdzm6Duf7ev",
        "outputId": "2e6c4374-8d03-47f3-c9b2-e5bf4de876e6"
      },
      "outputs": [
        {
          "name": "stdout",
          "output_type": "stream",
          "text": [
            "Collecting xarray\n",
            "  Using cached xarray-2025.4.0-py3-none-any.whl.metadata (12 kB)\n",
            "Requirement already satisfied: numpy>=1.24 in /opt/anaconda3/envs/tf/lib/python3.11/site-packages (from xarray) (2.2.5)\n",
            "Requirement already satisfied: packaging>=23.2 in /opt/anaconda3/envs/tf/lib/python3.11/site-packages (from xarray) (24.2)\n",
            "Requirement already satisfied: pandas>=2.1 in /opt/anaconda3/envs/tf/lib/python3.11/site-packages (from xarray) (2.2.3)\n",
            "Requirement already satisfied: python-dateutil>=2.8.2 in /opt/anaconda3/envs/tf/lib/python3.11/site-packages (from pandas>=2.1->xarray) (2.9.0.post0)\n",
            "Requirement already satisfied: pytz>=2020.1 in /opt/anaconda3/envs/tf/lib/python3.11/site-packages (from pandas>=2.1->xarray) (2025.2)\n",
            "Requirement already satisfied: tzdata>=2022.7 in /opt/anaconda3/envs/tf/lib/python3.11/site-packages (from pandas>=2.1->xarray) (2025.2)\n",
            "Requirement already satisfied: six>=1.5 in /opt/anaconda3/envs/tf/lib/python3.11/site-packages (from python-dateutil>=2.8.2->pandas>=2.1->xarray) (1.17.0)\n",
            "Using cached xarray-2025.4.0-py3-none-any.whl (1.3 MB)\n",
            "Installing collected packages: xarray\n",
            "Successfully installed xarray-2025.4.0\n",
            "Note: you may need to restart the kernel to use updated packages.\n"
          ]
        }
      ],
      "source": [
        "pip install xarray"
      ]
    },
    {
      "cell_type": "code",
      "execution_count": null,
      "metadata": {
        "id": "PmX7vy-gf7ev",
        "outputId": "98ecec75-58dd-4a05-d430-7f23d245e891"
      },
      "outputs": [
        {
          "name": "stdout",
          "output_type": "stream",
          "text": [
            "Collecting dask\n",
            "  Downloading dask-2025.4.1-py3-none-any.whl.metadata (3.8 kB)\n",
            "Requirement already satisfied: click>=8.1 in /opt/anaconda3/envs/tf/lib/python3.11/site-packages (from dask) (8.1.8)\n",
            "Collecting cloudpickle>=3.0.0 (from dask)\n",
            "  Downloading cloudpickle-3.1.1-py3-none-any.whl.metadata (7.1 kB)\n",
            "Requirement already satisfied: fsspec>=2021.09.0 in /opt/anaconda3/envs/tf/lib/python3.11/site-packages (from dask) (2025.3.2)\n",
            "Requirement already satisfied: packaging>=20.0 in /opt/anaconda3/envs/tf/lib/python3.11/site-packages (from dask) (24.2)\n",
            "Collecting partd>=1.4.0 (from dask)\n",
            "  Downloading partd-1.4.2-py3-none-any.whl.metadata (4.6 kB)\n",
            "Requirement already satisfied: pyyaml>=5.3.1 in /opt/anaconda3/envs/tf/lib/python3.11/site-packages (from dask) (6.0.2)\n",
            "Collecting toolz>=0.10.0 (from dask)\n",
            "  Downloading toolz-1.0.0-py3-none-any.whl.metadata (5.1 kB)\n",
            "Collecting importlib_metadata>=4.13.0 (from dask)\n",
            "  Downloading importlib_metadata-8.7.0-py3-none-any.whl.metadata (4.8 kB)\n",
            "Collecting zipp>=3.20 (from importlib_metadata>=4.13.0->dask)\n",
            "  Downloading zipp-3.21.0-py3-none-any.whl.metadata (3.7 kB)\n",
            "Collecting locket (from partd>=1.4.0->dask)\n",
            "  Downloading locket-1.0.0-py2.py3-none-any.whl.metadata (2.8 kB)\n",
            "Downloading dask-2025.4.1-py3-none-any.whl (1.5 MB)\n",
            "\u001b[2K   \u001b[90m━━━━━━━━━━━━━━━━━━━━━━━━━━━━━━━━━━━━━━━━\u001b[0m \u001b[32m1.5/1.5 MB\u001b[0m \u001b[31m16.8 MB/s\u001b[0m eta \u001b[36m0:00:00\u001b[0m\n",
            "Downloading cloudpickle-3.1.1-py3-none-any.whl (20 kB)\n",
            "Downloading importlib_metadata-8.7.0-py3-none-any.whl (27 kB)\n",
            "Downloading partd-1.4.2-py3-none-any.whl (18 kB)\n",
            "Downloading toolz-1.0.0-py3-none-any.whl (56 kB)\n",
            "Downloading zipp-3.21.0-py3-none-any.whl (9.6 kB)\n",
            "Downloading locket-1.0.0-py2.py3-none-any.whl (4.4 kB)\n",
            "Installing collected packages: zipp, toolz, locket, cloudpickle, partd, importlib_metadata, dask\n",
            "\u001b[2K   \u001b[90m━━━━━━━━━━━━━━━━━━━━━━━━━━━━━━━━━━━━━━━━\u001b[0m \u001b[32m7/7\u001b[0m [dask][32m6/7\u001b[0m [dask]\n",
            "\u001b[1A\u001b[2KSuccessfully installed cloudpickle-3.1.1 dask-2025.4.1 importlib_metadata-8.7.0 locket-1.0.0 partd-1.4.2 toolz-1.0.0 zipp-3.21.0\n",
            "Note: you may need to restart the kernel to use updated packages.\n"
          ]
        }
      ],
      "source": [
        "pip install dask"
      ]
    },
    {
      "cell_type": "code",
      "execution_count": null,
      "metadata": {
        "id": "lczpAhdMf7ev",
        "outputId": "f5d64e1b-af3c-4c0e-95c5-8aee9a9d186c"
      },
      "outputs": [
        {
          "name": "stdout",
          "output_type": "stream",
          "text": [
            "Requirement already satisfied: networkx in /opt/anaconda3/envs/tf/lib/python3.11/site-packages (3.4.2)\n",
            "Note: you may need to restart the kernel to use updated packages.\n"
          ]
        }
      ],
      "source": [
        "pip install networkx"
      ]
    },
    {
      "cell_type": "code",
      "execution_count": null,
      "metadata": {
        "id": "8mkFrdkxf7ev"
      },
      "outputs": [],
      "source": []
    }
  ],
  "metadata": {
    "kernelspec": {
      "display_name": "Python 3 (ipykernel)",
      "language": "python",
      "name": "python3"
    },
    "language_info": {
      "codemirror_mode": {
        "name": "ipython",
        "version": 3
      },
      "file_extension": ".py",
      "mimetype": "text/x-python",
      "name": "python",
      "nbconvert_exporter": "python",
      "pygments_lexer": "ipython3",
      "version": "3.11.5"
    },
    "colab": {
      "provenance": [],
      "include_colab_link": true
    }
  },
  "nbformat": 4,
  "nbformat_minor": 0
}