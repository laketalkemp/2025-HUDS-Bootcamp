{
  "nbformat": 4,
  "nbformat_minor": 0,
  "metadata": {
    "colab": {
      "provenance": [],
      "include_colab_link": true
    },
    "kernelspec": {
      "name": "python3",
      "display_name": "Python 3"
    },
    "language_info": {
      "name": "python"
    }
  },
  "cells": [
    {
      "cell_type": "markdown",
      "metadata": {
        "id": "view-in-github",
        "colab_type": "text"
      },
      "source": [
        "<a href=\"https://colab.research.google.com/github/laketalkemp/2025-HUDS-Bootcamp/blob/main/Strings_Practice.ipynb\" target=\"_parent\"><img src=\"https://colab.research.google.com/assets/colab-badge.svg\" alt=\"Open In Colab\"/></a>"
      ]
    },
    {
      "cell_type": "code",
      "source": [
        "# Let's combine the enter statement and string comparison\n",
        "print(\"This program will check to see if two values are the same.\")\n",
        "string1 = input(\"Enter a name: \")\n",
        "string2 = input(\"Enter another name: \")\n",
        "\n",
        "if string1 == string2:\n",
        "    print(\"They are the same!\")\n",
        "else:\n",
        "    print(\"They are not the same.\")"
      ],
      "metadata": {
        "colab": {
          "base_uri": "https://localhost:8080/"
        },
        "id": "ECS6xfdINh2M",
        "outputId": "7abcd210-8db2-42ce-f290-977d829ad7a0"
      },
      "execution_count": null,
      "outputs": [
        {
          "output_type": "stream",
          "name": "stdout",
          "text": [
            "This program will check to see if two values are the same.\n",
            "Enter a name: LaKeta\n",
            "Enter another name: Laketa\n",
            "They are not the same.\n"
          ]
        }
      ]
    },
    {
      "cell_type": "code",
      "source": [
        "# Comparison of strings using variables\n",
        "string11 = \"It's Friday!\"\n",
        "string12 = \"It's Friday!\"\n",
        "print(string11 is string12)"
      ],
      "metadata": {
        "id": "GZ7WxBArSYdP",
        "colab": {
          "base_uri": "https://localhost:8080/"
        },
        "outputId": "e3ffa271-820e-4eac-a538-c11be852d123"
      },
      "execution_count": 1,
      "outputs": [
        {
          "output_type": "stream",
          "name": "stdout",
          "text": [
            "False\n"
          ]
        }
      ]
    },
    {
      "cell_type": "code",
      "execution_count": 2,
      "metadata": {
        "id": "pBjdRBDuU_2O",
        "colab": {
          "base_uri": "https://localhost:8080/"
        },
        "outputId": "7ad80160-64ea-4d91-ffdd-5c9237555bec"
      },
      "outputs": [
        {
          "output_type": "stream",
          "name": "stdout",
          "text": [
            "17\n"
          ]
        }
      ],
      "source": [
        "# Let's check the length of the string\n",
        "welcome = \"Hello Black World\"\n",
        "length = len(welcome)\n",
        "print(length)"
      ]
    },
    {
      "cell_type": "code",
      "source": [
        "# Let's use indexing to print specific characters from the string\n",
        "my_string = \"Hello!\"\n",
        "character = my_string[3]\n",
        "print(character)"
      ],
      "metadata": {
        "id": "FCpaBYt2VTte",
        "colab": {
          "base_uri": "https://localhost:8080/"
        },
        "outputId": "64d52669-bc67-4392-d46d-dd2449cd518c"
      },
      "execution_count": 5,
      "outputs": [
        {
          "output_type": "stream",
          "name": "stdout",
          "text": [
            "l\n"
          ]
        }
      ]
    },
    {
      "cell_type": "code",
      "source": [
        "# Strings are immutable, they cannot be changed, only reassigned.\n",
        "my_string = \"House\"\n",
        "\n",
        "# This attempt to change the H in House to an M for Mouse will throw an error\n",
        "#my_string[0] = \"M\"\n",
        "print(my_string)\n",
        "\n",
        "# Instead, you can reassign the string to create mouse.\n",
        "my_string = \"M\" + my_string[1:]\n",
        "print(my_string)\n",
        "\n",
        "# Reassigning a value to a variable overwrites the values to the variable.\n",
        "my_string = \"House\"\n",
        "my_string = \"Home\"\n",
        "print(my_string)"
      ],
      "metadata": {
        "id": "OZWuFoTSVgGJ",
        "colab": {
          "base_uri": "https://localhost:8080/"
        },
        "outputId": "13ffe370-7dc4-47d9-a0e9-8795cae1ee92"
      },
      "execution_count": 7,
      "outputs": [
        {
          "output_type": "stream",
          "name": "stdout",
          "text": [
            "House\n",
            "Mouse\n",
            "Home\n"
          ]
        }
      ]
    },
    {
      "cell_type": "code",
      "source": [
        "# Using the in operator to find a value\n",
        "my_string = \"The brown dog jumps over the lazy fox.\"\n",
        "\n",
        "print(\"jumps\" in my_string)\n"
      ],
      "metadata": {
        "id": "cHp10EvqWhhO",
        "colab": {
          "base_uri": "https://localhost:8080/"
        },
        "outputId": "100a7912-566a-43f4-d9a4-1d7f2d6f3177"
      },
      "execution_count": 8,
      "outputs": [
        {
          "output_type": "stream",
          "name": "stdout",
          "text": [
            "True\n"
          ]
        }
      ]
    },
    {
      "cell_type": "code",
      "source": [
        "# Using indexing to slice from a string\n",
        "my_string = \"The brown dog jumps over the lazy fox.\"\n",
        "my_slice = my_string[4:9]\n",
        "\n",
        "print(my_slice)\n"
      ],
      "metadata": {
        "id": "Qs915wpbWvL9",
        "colab": {
          "base_uri": "https://localhost:8080/"
        },
        "outputId": "4fcde380-6f05-470b-fbc9-9101b33eb03a"
      },
      "execution_count": 9,
      "outputs": [
        {
          "output_type": "stream",
          "name": "stdout",
          "text": [
            "brown\n"
          ]
        }
      ]
    },
    {
      "cell_type": "code",
      "source": [
        "# Combining a for loop to iterate through a string\n",
        "my_string = \"Hello world\"\n",
        "\n",
        "for char in my_string:\n",
        "    print(char)\n"
      ],
      "metadata": {
        "id": "77L6-QI3X1YQ",
        "colab": {
          "base_uri": "https://localhost:8080/"
        },
        "outputId": "f02ac31a-80db-417a-f234-a00fd3922dc1"
      },
      "execution_count": 10,
      "outputs": [
        {
          "output_type": "stream",
          "name": "stdout",
          "text": [
            "H\n",
            "e\n",
            "l\n",
            "l\n",
            "o\n",
            " \n",
            "w\n",
            "o\n",
            "r\n",
            "l\n",
            "d\n"
          ]
        }
      ]
    },
    {
      "cell_type": "code",
      "source": [
        "# String Comparison using Boolean\n",
        "string1 = \"It's Friday!\"\n",
        "string2 = \"It's friday!\"\n",
        "print(string1 == string2)\n",
        "\n",
        "# String Comparison using the is operator\n",
        "print(string1 is string2)"
      ],
      "metadata": {
        "id": "hjJ5UB5IYHt7",
        "colab": {
          "base_uri": "https://localhost:8080/"
        },
        "outputId": "f5af38c5-5de8-4d63-bc3b-28be9d746c0a"
      },
      "execution_count": 11,
      "outputs": [
        {
          "output_type": "stream",
          "name": "stdout",
          "text": [
            "False\n",
            "False\n"
          ]
        }
      ]
    },
    {
      "cell_type": "code",
      "source": [
        "# Using the Input to create a complex print statement\n",
        "NameF = input(\"What is your first name? \")\n",
        "NameMI = input(\"What is your middle intial? \")\n",
        "NameL = input(\"What is your last name? \")\n",
        "\n",
        "# As entered by the user\n",
        "print (NameF + NameMI + NameL)\n",
        "\n",
        "# With added spaces\n",
        "print(NameF + ' '+ NameMI + ' '+ NameL)"
      ],
      "metadata": {
        "id": "JQ6AVu2iYalx",
        "colab": {
          "base_uri": "https://localhost:8080/"
        },
        "outputId": "72ac648d-3d23-4ac3-b046-bc9c6e16bf37"
      },
      "execution_count": 12,
      "outputs": [
        {
          "output_type": "stream",
          "name": "stdout",
          "text": [
            "What is your first name? John\n",
            "What is your middle intial?  \n",
            "What is your last name? Wick\n",
            "John Wick\n",
            "John   Wick\n"
          ]
        }
      ]
    },
    {
      "cell_type": "code",
      "source": [
        "# String Comparison with conversion to lowercase\n",
        "print(\"This program will check to see if two values are the same.\")\n",
        "string1 = input(\"Enter a value: \").lower()\n",
        "string2 = input(\"Enter another value: \").lower()\n",
        "if string1 == string2:\n",
        "    print(\"They are the same!\")\n",
        "else:\n",
        "    print(\"They are not the same.\")"
      ],
      "metadata": {
        "id": "ofrzds55YrsP",
        "colab": {
          "base_uri": "https://localhost:8080/"
        },
        "outputId": "acd4cfd5-02c1-48be-edb0-f8497171af82"
      },
      "execution_count": 13,
      "outputs": [
        {
          "output_type": "stream",
          "name": "stdout",
          "text": [
            "This program will check to see if two values are the same.\n",
            "Enter a value: LaKeta\n",
            "Enter another value: Laketa\n",
            "They are the same!\n"
          ]
        }
      ]
    },
    {
      "cell_type": "code",
      "source": [
        "# Let's check the value stored in the string values\n",
        "print(string2)\n",
        "print(string1)"
      ],
      "metadata": {
        "id": "k8tdDJ5KZFzU",
        "colab": {
          "base_uri": "https://localhost:8080/"
        },
        "outputId": "17ce9b52-e92a-46f3-cf6d-88f6e9d97c50"
      },
      "execution_count": 15,
      "outputs": [
        {
          "output_type": "stream",
          "name": "stdout",
          "text": [
            "laketa\n",
            "laketa\n"
          ]
        }
      ]
    },
    {
      "cell_type": "code",
      "source": [
        "# Let's pull a few concepts together with an input, and conditional logic\n",
        "age = int(input(\"Enter your age: \"))\n",
        "\n",
        "if age < 18:\n",
        "    print(\"You are underage.\")\n",
        "elif age >= 18 and age < 65:\n",
        "    print(\"You are an adult.\")\n",
        "else:\n",
        "    print(\"You are a senior citizen.\")"
      ],
      "metadata": {
        "id": "folL2CP0ZPlG",
        "colab": {
          "base_uri": "https://localhost:8080/"
        },
        "outputId": "4239493c-255d-40e5-b207-7c77ab555809"
      },
      "execution_count": 16,
      "outputs": [
        {
          "output_type": "stream",
          "name": "stdout",
          "text": [
            "Enter your age: 47\n",
            "You are an adult.\n"
          ]
        }
      ]
    }
  ]
}