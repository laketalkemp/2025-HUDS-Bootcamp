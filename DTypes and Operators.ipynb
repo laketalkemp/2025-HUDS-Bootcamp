{
  "nbformat": 4,
  "nbformat_minor": 0,
  "metadata": {
    "colab": {
      "provenance": [],
      "authorship_tag": "ABX9TyMTE7QhyolYY8nmnp/iqCRc",
      "include_colab_link": true
    },
    "kernelspec": {
      "name": "python3",
      "display_name": "Python 3"
    },
    "language_info": {
      "name": "python"
    }
  },
  "cells": [
    {
      "cell_type": "markdown",
      "metadata": {
        "id": "view-in-github",
        "colab_type": "text"
      },
      "source": [
        "<a href=\"https://colab.research.google.com/github/laketalkemp/2025-HUDS-Bootcamp/blob/main/DTypes%20and%20Operators.ipynb\" target=\"_parent\"><img src=\"https://colab.research.google.com/assets/colab-badge.svg\" alt=\"Open In Colab\"/></a>"
      ]
    },
    {
      "cell_type": "markdown",
      "source": [
        "# Introduction to Data Types and Python Operators\n",
        "\n",
        "\n",
        "## Developing a research question.\n",
        "Reference for later: https://www.ncbi.nlm.nih.gov/pmc/articles/PMC6322175/\n",
        "1. Start with an observation of the environment or community that proposes a problem statement with an educated guess or hypothesis that can be tested with quantifiable data.  Quantifiable data can be categorical, boolean, or numerical but can always be manipulated to determine analysis.\n",
        "2. Choose a topic. The first step is to choose a topic that you are interested in and that you have some knowledge about. You can choose a topic from your own personal experience, from current events, or from a field of study that you are interested in.\n",
        "3. Do preliminary research. Once you have chosen a topic, you need to do some preliminary research to learn about the topic. This will help you to narrow down your topic and to identify potential research questions.\n",
        "4. Narrow down your topic. Once you have done some preliminary research, you need to narrow down your topic. This will help you to focus your research and to make it more manageable.\n",
        "5. Determine potential research questions. Once you have narrowed down your topic, you need to determine potential research questions. Research questions should be specific, focused, and answerable. They should also be relevant to your topic and to the current state of knowledge in your field.\n",
        "6. Evaluate the soundness of your research question. Once you have determined potential research questions, you need to evaluate the soundness of your research question. This means considering whether your question is feasible, whether it is important, and whether it is original.\n",
        "7. Construct your research question properly. Once you have evaluated the soundness of your research question, you need to construct your research question properly. This means making sure that your question is clear, concise, and grammatically correct."
      ],
      "metadata": {
        "id": "NMdxvBVrTXH6"
      }
    },
    {
      "cell_type": "markdown",
      "source": [
        "# Data: Where do you obtain data and how is it represented?\n",
        "Data is everywhere, it can be surveys, numerical values, and often is raw and incomplete or containing errors.  The data represents values that can be tabulated into an organized format to allow analysis.  Some data is public, de-identified information.  Other data are proprietary and can be purchased as de-identified data from a repository.  Many organizations can have a surplus of data as printed records or collected as unlabeled data over a period of time.  Raw data in paper format can be imported and read using OCR (optical character recognition) to digitize the data into a tabular format."
      ],
      "metadata": {
        "id": "nSzht0RTVR6D"
      }
    },
    {
      "cell_type": "markdown",
      "source": [
        "# Data Types\n",
        "Numbers: Integers, floats, and complex numbers <br>\n",
        "Strings: Sequences of characters<br>\n",
        "Lists: Ordered sequences of objects<br>\n",
        "Tuples: Unordered sequences of objects<br>\n",
        "Sets: unordered collections of unique objects<br>\n",
        "Dictionaries: Associative arrays that map keys to values<br>\n",
        "1. String: A loop of text that should be treated as a text.  Strings can include numbers but they are not computationally active.  \n",
        "2. Integers: Whole numbers, positive or negative without decimals.\n",
        "3. Float: numerical values with a decimal series.  \n",
        "4. Boolean: Binary values that are True or False."
      ],
      "metadata": {
        "id": "QA6oMXI6XBr1"
      }
    },
    {
      "cell_type": "code",
      "source": [
        "# Examples of each data type\n",
        "a=\"3 blind mice\" #String\n",
        "b=3 #Integer\n",
        "c=3.3333 #Float\n",
        "d=True #Boolean\n",
        "\n",
        "type(a)"
      ],
      "metadata": {
        "id": "2E4KZ0IxVjCm",
        "colab": {
          "base_uri": "https://localhost:8080/"
        },
        "outputId": "262298cc-cd9b-4a76-b10c-2cac9152432a"
      },
      "execution_count": null,
      "outputs": [
        {
          "output_type": "execute_result",
          "data": {
            "text/plain": [
              "str"
            ]
          },
          "metadata": {},
          "execution_count": 1
        }
      ]
    },
    {
      "cell_type": "code",
      "source": [
        "type(b)"
      ],
      "metadata": {
        "id": "X-mWy4xrZB5M",
        "colab": {
          "base_uri": "https://localhost:8080/"
        },
        "outputId": "342d8b1d-875c-4991-8a31-6e748fd488f2"
      },
      "execution_count": null,
      "outputs": [
        {
          "output_type": "execute_result",
          "data": {
            "text/plain": [
              "int"
            ]
          },
          "metadata": {},
          "execution_count": 2
        }
      ]
    },
    {
      "cell_type": "code",
      "source": [
        "type(c)"
      ],
      "metadata": {
        "id": "NiLfp6Z0ZDuo",
        "colab": {
          "base_uri": "https://localhost:8080/"
        },
        "outputId": "50fe4c7b-c0b3-4cd5-8c4a-2bbc0c21e012"
      },
      "execution_count": null,
      "outputs": [
        {
          "output_type": "execute_result",
          "data": {
            "text/plain": [
              "float"
            ]
          },
          "metadata": {},
          "execution_count": 3
        }
      ]
    },
    {
      "cell_type": "code",
      "source": [
        "type(d)"
      ],
      "metadata": {
        "id": "J0a964VDZFxm",
        "colab": {
          "base_uri": "https://localhost:8080/"
        },
        "outputId": "16555a28-af2e-49aa-e98b-e441cfc5a556"
      },
      "execution_count": null,
      "outputs": [
        {
          "output_type": "execute_result",
          "data": {
            "text/plain": [
              "bool"
            ]
          },
          "metadata": {},
          "execution_count": 4
        }
      ]
    },
    {
      "cell_type": "markdown",
      "source": [
        "# Live Coding Practice\n",
        "* Data Types\n",
        "* Variables\n",
        "* Basic Operators"
      ],
      "metadata": {
        "id": "vB_7QfF7k_sX"
      }
    },
    {
      "cell_type": "code",
      "source": [
        "# 1. What data type does this output belong?\n",
        "print(type(\"Micheal Jordan\"))"
      ],
      "metadata": {
        "id": "gzPi1-MmlH8K",
        "colab": {
          "base_uri": "https://localhost:8080/"
        },
        "outputId": "c0d58745-c3f5-4692-93df-6a15c9ed57be"
      },
      "execution_count": null,
      "outputs": [
        {
          "output_type": "stream",
          "name": "stdout",
          "text": [
            "<class 'str'>\n"
          ]
        }
      ]
    },
    {
      "cell_type": "code",
      "source": [
        "# 2. What data type does this output belong?\n",
        "print(type(1963))"
      ],
      "metadata": {
        "id": "YwnvSjfPmGZc",
        "colab": {
          "base_uri": "https://localhost:8080/"
        },
        "outputId": "22995089-5842-4501-fb92-e677738d3f3d"
      },
      "execution_count": null,
      "outputs": [
        {
          "output_type": "stream",
          "name": "stdout",
          "text": [
            "<class 'int'>\n"
          ]
        }
      ]
    },
    {
      "cell_type": "code",
      "source": [
        "# 3. What data type does this output belong?\n",
        "print(type(1.98))"
      ],
      "metadata": {
        "id": "Iol49tPGmPX_",
        "colab": {
          "base_uri": "https://localhost:8080/"
        },
        "outputId": "7c8ea73b-7633-4137-dce0-e296d2dcec76"
      },
      "execution_count": null,
      "outputs": [
        {
          "output_type": "stream",
          "name": "stdout",
          "text": [
            "<class 'float'>\n"
          ]
        }
      ]
    },
    {
      "cell_type": "code",
      "source": [
        "# Demonstrating multiple variable assignment in-line\n",
        "laKetaCollege, angiesCollege='Arizona State University','University of North Carolina at Charlotte'\n",
        "print(laKetaCollege)\n",
        "print(angiesCollege)"
      ],
      "metadata": {
        "id": "iN6gWIK1rBWC",
        "colab": {
          "base_uri": "https://localhost:8080/"
        },
        "outputId": "fbc7861f-ba7d-43ff-a71f-004227569702"
      },
      "execution_count": null,
      "outputs": [
        {
          "output_type": "stream",
          "name": "stdout",
          "text": [
            "Arizona State University\n",
            "University of North Carolina at Charlotte\n"
          ]
        }
      ]
    },
    {
      "cell_type": "markdown",
      "source": [
        "# Arithmetic Operators\n",
        "Python performs mathematical and statistical calculations using mathematical operators.  This allows the Data Science to perform calculations, create calculated arrays or lists, and use the information to create computations.  \n",
        "1. **Addition**: Uses the plus sign `+` to create a mathematical operation between a set of numerical values where the data type can be integer or float.  The `+` operator is also used for concatenation, connecting information from a variety of data types.  It can also be used as an incrementer to increase the value when used in combination of the variable name `+` value or `+=` to increment.\n",
        "2. **Subtraction**: Uses the minus sign `-` to generate mathematical operations for subtraction.  When combined with an equal sign it can be used as a decrimenter to reduce the value and count down.\n",
        "3. **Multiplication**: Uses the asterisk symbol `*` to multiply two values.  This can also work for string concatenation to return the string value multiple times.  Can be comnined with the equal sign to generate a multiplier as an iteration.\n",
        "4. **Exponent**: Uses the double asterisk symbol `**` to raise the value on the left of the symbol to the power on the right of the symbol.  This can be combined with variables and works for integer and float data types. It can also work with a list to generate faster computation.\n",
        "5. **Division**: Uses the backslash key `/` to divide the value on the left by the value on the right.  The order of the values is important and can change the output.\n",
        "6. **Integer Division**: Uses double backslash key `//` to return the value without the decimal or remainder.  It does not round the value, just drops the remainder to yield an integer.\n",
        "7. **Modulus**: Uses the percent sign `%` to return the remainder of a division calculation.  It returns only the remainder as an integer value.  This is often used to determine even or odd values when needed.\n",
        "8. **Square Root**: This method is in the math library and requires an import of the math library to call the function `math.sqrt`.\n",
        "\n",
        "All mathematical operations use the PEMDAS logic;\n",
        "1. Parenthesis\n",
        "2. Exponents\n",
        "3. Multiplication\n",
        "4. Division\n",
        "5. Addition\n",
        "6. Subtraction"
      ],
      "metadata": {
        "id": "C4wIDTV82z0F"
      }
    },
    {
      "cell_type": "code",
      "source": [
        "#Simple addition\n",
        "7+3"
      ],
      "metadata": {
        "id": "NBy8FA0QzAH_",
        "colab": {
          "base_uri": "https://localhost:8080/"
        },
        "outputId": "697e53eb-b2d3-4f54-d624-26807523623c"
      },
      "execution_count": null,
      "outputs": [
        {
          "output_type": "execute_result",
          "data": {
            "text/plain": [
              "10"
            ]
          },
          "metadata": {},
          "execution_count": 9
        }
      ]
    },
    {
      "cell_type": "code",
      "source": [
        "a=0\n",
        "print(a)"
      ],
      "metadata": {
        "id": "Iy2to3-U3o4C",
        "colab": {
          "base_uri": "https://localhost:8080/"
        },
        "outputId": "b7ef8746-19fb-4391-8816-8f79845fd65f"
      },
      "execution_count": null,
      "outputs": [
        {
          "output_type": "stream",
          "name": "stdout",
          "text": [
            "0\n"
          ]
        }
      ]
    },
    {
      "cell_type": "code",
      "source": [
        "# Iteration\n",
        "a+=1\n",
        "print(a)\n",
        "# Each time this is run, a will increase by one additional value.\n",
        "# This can be used to create a counter"
      ],
      "metadata": {
        "id": "Qh7Ws-Xz4WyI",
        "colab": {
          "base_uri": "https://localhost:8080/"
        },
        "outputId": "c9ebbc2c-160c-4bd5-87d7-5e373b0ec782"
      },
      "execution_count": null,
      "outputs": [
        {
          "output_type": "stream",
          "name": "stdout",
          "text": [
            "41\n"
          ]
        }
      ]
    },
    {
      "cell_type": "code",
      "source": [
        "# Multiplying strings\n",
        "a=\"Hello\"\n",
        "a*3"
      ],
      "metadata": {
        "id": "SQLBPu4a-i5e",
        "colab": {
          "base_uri": "https://localhost:8080/",
          "height": 35
        },
        "outputId": "36d3f269-a5b9-492d-af82-9094f72f46df"
      },
      "execution_count": null,
      "outputs": [
        {
          "output_type": "execute_result",
          "data": {
            "text/plain": [
              "'H el lo H el lo H el lo '"
            ],
            "application/vnd.google.colaboratory.intrinsic+json": {
              "type": "string"
            }
          },
          "metadata": {},
          "execution_count": 58
        }
      ]
    },
    {
      "cell_type": "code",
      "source": [
        "# Iteration using multiplication\n",
        "a=1\n",
        "b=10\n",
        "b*=a\n",
        "b"
      ],
      "metadata": {
        "id": "YNRQR7_t-qRV",
        "colab": {
          "base_uri": "https://localhost:8080/"
        },
        "outputId": "cca0869b-710b-4353-a1f9-0a017fcf6e8d"
      },
      "execution_count": null,
      "outputs": [
        {
          "output_type": "execute_result",
          "data": {
            "text/plain": [
              "10"
            ]
          },
          "metadata": {},
          "execution_count": 59
        }
      ]
    },
    {
      "cell_type": "code",
      "source": [
        "# Exponents\n",
        "a=7\n",
        "b=a**7\n",
        "b"
      ],
      "metadata": {
        "id": "zO0HIUr_-1W-",
        "colab": {
          "base_uri": "https://localhost:8080/"
        },
        "outputId": "edc7f1f2-74cf-4e80-b440-9f474dd38666"
      },
      "execution_count": null,
      "outputs": [
        {
          "output_type": "execute_result",
          "data": {
            "text/plain": [
              "823543"
            ]
          },
          "metadata": {},
          "execution_count": 60
        }
      ]
    },
    {
      "cell_type": "code",
      "source": [
        "# Simple multiplication\n",
        "a=7\n",
        "b=a*7\n",
        "b"
      ],
      "metadata": {
        "id": "F-IrI6IR-7G-",
        "colab": {
          "base_uri": "https://localhost:8080/"
        },
        "outputId": "3345016d-84fa-4b1e-9c6f-c2961af77d3c"
      },
      "execution_count": null,
      "outputs": [
        {
          "output_type": "execute_result",
          "data": {
            "text/plain": [
              "49"
            ]
          },
          "metadata": {},
          "execution_count": 61
        }
      ]
    },
    {
      "cell_type": "code",
      "source": [
        "# Printing the answer to b in a different way.\n",
        "print(b)"
      ],
      "metadata": {
        "colab": {
          "base_uri": "https://localhost:8080/"
        },
        "id": "wNxqEeW04yRL",
        "outputId": "6ce3f213-cd0f-4457-fa67-173a9a14b002"
      },
      "execution_count": null,
      "outputs": [
        {
          "output_type": "stream",
          "name": "stdout",
          "text": [
            "49\n"
          ]
        }
      ]
    },
    {
      "cell_type": "code",
      "source": [
        "#Square Root\n",
        "#Import the math library\n",
        "import math\n",
        "\n",
        "math.sqrt(325)"
      ],
      "metadata": {
        "id": "2T92KOHI_Suu",
        "colab": {
          "base_uri": "https://localhost:8080/"
        },
        "outputId": "ebcd99aa-2116-49a8-95e6-683dba574c38"
      },
      "execution_count": null,
      "outputs": [
        {
          "output_type": "execute_result",
          "data": {
            "text/plain": [
              "18.027756377319946"
            ]
          },
          "metadata": {},
          "execution_count": 63
        }
      ]
    },
    {
      "cell_type": "code",
      "source": [
        "# Getting help on a specific method\n",
        "?math.sqrt"
      ],
      "metadata": {
        "id": "J3G7lT375UuW"
      },
      "execution_count": null,
      "outputs": []
    },
    {
      "cell_type": "code",
      "source": [
        "# Getting help on an entire library and all the methods\n",
        "help(math)"
      ],
      "metadata": {
        "colab": {
          "base_uri": "https://localhost:8080/"
        },
        "id": "WIvQw5SJ5dPR",
        "outputId": "f43a9cd6-519e-462b-ee02-17e92488b9d1"
      },
      "execution_count": null,
      "outputs": [
        {
          "output_type": "stream",
          "name": "stdout",
          "text": [
            "Help on built-in module math:\n",
            "\n",
            "NAME\n",
            "    math\n",
            "\n",
            "DESCRIPTION\n",
            "    This module provides access to the mathematical functions\n",
            "    defined by the C standard.\n",
            "\n",
            "FUNCTIONS\n",
            "    acos(x, /)\n",
            "        Return the arc cosine (measured in radians) of x.\n",
            "        \n",
            "        The result is between 0 and pi.\n",
            "    \n",
            "    acosh(x, /)\n",
            "        Return the inverse hyperbolic cosine of x.\n",
            "    \n",
            "    asin(x, /)\n",
            "        Return the arc sine (measured in radians) of x.\n",
            "        \n",
            "        The result is between -pi/2 and pi/2.\n",
            "    \n",
            "    asinh(x, /)\n",
            "        Return the inverse hyperbolic sine of x.\n",
            "    \n",
            "    atan(x, /)\n",
            "        Return the arc tangent (measured in radians) of x.\n",
            "        \n",
            "        The result is between -pi/2 and pi/2.\n",
            "    \n",
            "    atan2(y, x, /)\n",
            "        Return the arc tangent (measured in radians) of y/x.\n",
            "        \n",
            "        Unlike atan(y/x), the signs of both x and y are considered.\n",
            "    \n",
            "    atanh(x, /)\n",
            "        Return the inverse hyperbolic tangent of x.\n",
            "    \n",
            "    cbrt(x, /)\n",
            "        Return the cube root of x.\n",
            "    \n",
            "    ceil(x, /)\n",
            "        Return the ceiling of x as an Integral.\n",
            "        \n",
            "        This is the smallest integer >= x.\n",
            "    \n",
            "    comb(n, k, /)\n",
            "        Number of ways to choose k items from n items without repetition and without order.\n",
            "        \n",
            "        Evaluates to n! / (k! * (n - k)!) when k <= n and evaluates\n",
            "        to zero when k > n.\n",
            "        \n",
            "        Also called the binomial coefficient because it is equivalent\n",
            "        to the coefficient of k-th term in polynomial expansion of the\n",
            "        expression (1 + x)**n.\n",
            "        \n",
            "        Raises TypeError if either of the arguments are not integers.\n",
            "        Raises ValueError if either of the arguments are negative.\n",
            "    \n",
            "    copysign(x, y, /)\n",
            "        Return a float with the magnitude (absolute value) of x but the sign of y.\n",
            "        \n",
            "        On platforms that support signed zeros, copysign(1.0, -0.0)\n",
            "        returns -1.0.\n",
            "    \n",
            "    cos(x, /)\n",
            "        Return the cosine of x (measured in radians).\n",
            "    \n",
            "    cosh(x, /)\n",
            "        Return the hyperbolic cosine of x.\n",
            "    \n",
            "    degrees(x, /)\n",
            "        Convert angle x from radians to degrees.\n",
            "    \n",
            "    dist(p, q, /)\n",
            "        Return the Euclidean distance between two points p and q.\n",
            "        \n",
            "        The points should be specified as sequences (or iterables) of\n",
            "        coordinates.  Both inputs must have the same dimension.\n",
            "        \n",
            "        Roughly equivalent to:\n",
            "            sqrt(sum((px - qx) ** 2.0 for px, qx in zip(p, q)))\n",
            "    \n",
            "    erf(x, /)\n",
            "        Error function at x.\n",
            "    \n",
            "    erfc(x, /)\n",
            "        Complementary error function at x.\n",
            "    \n",
            "    exp(x, /)\n",
            "        Return e raised to the power of x.\n",
            "    \n",
            "    exp2(x, /)\n",
            "        Return 2 raised to the power of x.\n",
            "    \n",
            "    expm1(x, /)\n",
            "        Return exp(x)-1.\n",
            "        \n",
            "        This function avoids the loss of precision involved in the direct evaluation of exp(x)-1 for small x.\n",
            "    \n",
            "    fabs(x, /)\n",
            "        Return the absolute value of the float x.\n",
            "    \n",
            "    factorial(n, /)\n",
            "        Find n!.\n",
            "        \n",
            "        Raise a ValueError if x is negative or non-integral.\n",
            "    \n",
            "    floor(x, /)\n",
            "        Return the floor of x as an Integral.\n",
            "        \n",
            "        This is the largest integer <= x.\n",
            "    \n",
            "    fmod(x, y, /)\n",
            "        Return fmod(x, y), according to platform C.\n",
            "        \n",
            "        x % y may differ.\n",
            "    \n",
            "    frexp(x, /)\n",
            "        Return the mantissa and exponent of x, as pair (m, e).\n",
            "        \n",
            "        m is a float and e is an int, such that x = m * 2.**e.\n",
            "        If x is 0, m and e are both 0.  Else 0.5 <= abs(m) < 1.0.\n",
            "    \n",
            "    fsum(seq, /)\n",
            "        Return an accurate floating point sum of values in the iterable seq.\n",
            "        \n",
            "        Assumes IEEE-754 floating point arithmetic.\n",
            "    \n",
            "    gamma(x, /)\n",
            "        Gamma function at x.\n",
            "    \n",
            "    gcd(*integers)\n",
            "        Greatest Common Divisor.\n",
            "    \n",
            "    hypot(...)\n",
            "        hypot(*coordinates) -> value\n",
            "        \n",
            "        Multidimensional Euclidean distance from the origin to a point.\n",
            "        \n",
            "        Roughly equivalent to:\n",
            "            sqrt(sum(x**2 for x in coordinates))\n",
            "        \n",
            "        For a two dimensional point (x, y), gives the hypotenuse\n",
            "        using the Pythagorean theorem:  sqrt(x*x + y*y).\n",
            "        \n",
            "        For example, the hypotenuse of a 3/4/5 right triangle is:\n",
            "        \n",
            "            >>> hypot(3.0, 4.0)\n",
            "            5.0\n",
            "    \n",
            "    isclose(a, b, *, rel_tol=1e-09, abs_tol=0.0)\n",
            "        Determine whether two floating point numbers are close in value.\n",
            "        \n",
            "          rel_tol\n",
            "            maximum difference for being considered \"close\", relative to the\n",
            "            magnitude of the input values\n",
            "          abs_tol\n",
            "            maximum difference for being considered \"close\", regardless of the\n",
            "            magnitude of the input values\n",
            "        \n",
            "        Return True if a is close in value to b, and False otherwise.\n",
            "        \n",
            "        For the values to be considered close, the difference between them\n",
            "        must be smaller than at least one of the tolerances.\n",
            "        \n",
            "        -inf, inf and NaN behave similarly to the IEEE 754 Standard.  That\n",
            "        is, NaN is not close to anything, even itself.  inf and -inf are\n",
            "        only close to themselves.\n",
            "    \n",
            "    isfinite(x, /)\n",
            "        Return True if x is neither an infinity nor a NaN, and False otherwise.\n",
            "    \n",
            "    isinf(x, /)\n",
            "        Return True if x is a positive or negative infinity, and False otherwise.\n",
            "    \n",
            "    isnan(x, /)\n",
            "        Return True if x is a NaN (not a number), and False otherwise.\n",
            "    \n",
            "    isqrt(n, /)\n",
            "        Return the integer part of the square root of the input.\n",
            "    \n",
            "    lcm(*integers)\n",
            "        Least Common Multiple.\n",
            "    \n",
            "    ldexp(x, i, /)\n",
            "        Return x * (2**i).\n",
            "        \n",
            "        This is essentially the inverse of frexp().\n",
            "    \n",
            "    lgamma(x, /)\n",
            "        Natural logarithm of absolute value of Gamma function at x.\n",
            "    \n",
            "    log(...)\n",
            "        log(x, [base=math.e])\n",
            "        Return the logarithm of x to the given base.\n",
            "        \n",
            "        If the base not specified, returns the natural logarithm (base e) of x.\n",
            "    \n",
            "    log10(x, /)\n",
            "        Return the base 10 logarithm of x.\n",
            "    \n",
            "    log1p(x, /)\n",
            "        Return the natural logarithm of 1+x (base e).\n",
            "        \n",
            "        The result is computed in a way which is accurate for x near zero.\n",
            "    \n",
            "    log2(x, /)\n",
            "        Return the base 2 logarithm of x.\n",
            "    \n",
            "    modf(x, /)\n",
            "        Return the fractional and integer parts of x.\n",
            "        \n",
            "        Both results carry the sign of x and are floats.\n",
            "    \n",
            "    nextafter(x, y, /)\n",
            "        Return the next floating-point value after x towards y.\n",
            "    \n",
            "    perm(n, k=None, /)\n",
            "        Number of ways to choose k items from n items without repetition and with order.\n",
            "        \n",
            "        Evaluates to n! / (n - k)! when k <= n and evaluates\n",
            "        to zero when k > n.\n",
            "        \n",
            "        If k is not specified or is None, then k defaults to n\n",
            "        and the function returns n!.\n",
            "        \n",
            "        Raises TypeError if either of the arguments are not integers.\n",
            "        Raises ValueError if either of the arguments are negative.\n",
            "    \n",
            "    pow(x, y, /)\n",
            "        Return x**y (x to the power of y).\n",
            "    \n",
            "    prod(iterable, /, *, start=1)\n",
            "        Calculate the product of all the elements in the input iterable.\n",
            "        \n",
            "        The default start value for the product is 1.\n",
            "        \n",
            "        When the iterable is empty, return the start value.  This function is\n",
            "        intended specifically for use with numeric values and may reject\n",
            "        non-numeric types.\n",
            "    \n",
            "    radians(x, /)\n",
            "        Convert angle x from degrees to radians.\n",
            "    \n",
            "    remainder(x, y, /)\n",
            "        Difference between x and the closest integer multiple of y.\n",
            "        \n",
            "        Return x - n*y where n*y is the closest integer multiple of y.\n",
            "        In the case where x is exactly halfway between two multiples of\n",
            "        y, the nearest even value of n is used. The result is always exact.\n",
            "    \n",
            "    sin(x, /)\n",
            "        Return the sine of x (measured in radians).\n",
            "    \n",
            "    sinh(x, /)\n",
            "        Return the hyperbolic sine of x.\n",
            "    \n",
            "    sqrt(x, /)\n",
            "        Return the square root of x.\n",
            "    \n",
            "    tan(x, /)\n",
            "        Return the tangent of x (measured in radians).\n",
            "    \n",
            "    tanh(x, /)\n",
            "        Return the hyperbolic tangent of x.\n",
            "    \n",
            "    trunc(x, /)\n",
            "        Truncates the Real x to the nearest Integral toward 0.\n",
            "        \n",
            "        Uses the __trunc__ magic method.\n",
            "    \n",
            "    ulp(x, /)\n",
            "        Return the value of the least significant bit of the float x.\n",
            "\n",
            "DATA\n",
            "    e = 2.718281828459045\n",
            "    inf = inf\n",
            "    nan = nan\n",
            "    pi = 3.141592653589793\n",
            "    tau = 6.283185307179586\n",
            "\n",
            "FILE\n",
            "    (built-in)\n",
            "\n",
            "\n"
          ]
        }
      ]
    },
    {
      "cell_type": "code",
      "source": [
        "# PEMDAS\n",
        "a,b,c=2,3,4\n",
        "d=(a**b+9)/c-10 #Parenthesis for compartmentalization\n",
        "e=a**b+9/c-10 #Python PEMDAS\n",
        "\n",
        "print(\"The value for d is:\",d)\n",
        "print(\"The value for e is:\",e)"
      ],
      "metadata": {
        "id": "puiOB_vI_4Be",
        "colab": {
          "base_uri": "https://localhost:8080/"
        },
        "outputId": "334f7896-312b-42bf-d21b-94acd6207392"
      },
      "execution_count": null,
      "outputs": [
        {
          "output_type": "stream",
          "name": "stdout",
          "text": [
            "The value for d is: -5.75\n",
            "The value for e is: 0.25\n"
          ]
        }
      ]
    },
    {
      "cell_type": "code",
      "source": [
        "# Division, Integer Division, Modulus\n",
        "a,b,c=2,3,4\n",
        "print(\"Division:\",a/b,\n",
        "      \"\\nInteger Division:\",a//b,\n",
        "      \"\\nModulus(Remainder):\",a%b)"
      ],
      "metadata": {
        "id": "GV7tlmuvATZ3",
        "colab": {
          "base_uri": "https://localhost:8080/"
        },
        "outputId": "56194e1c-a362-4b2f-8939-fbe50572b4c3"
      },
      "execution_count": null,
      "outputs": [
        {
          "output_type": "stream",
          "name": "stdout",
          "text": [
            "Division: 0.6666666666666666 \n",
            "Integer Division: 0 \n",
            "Modulus(Remainder): 2\n"
          ]
        }
      ]
    },
    {
      "cell_type": "code",
      "source": [
        "# Copying code from\n",
        "Greeting = \"Hello, Black World\"\n",
        "print(Greeting)\n",
        "Greeting = \"What’s good\"\n",
        "print(Greeting)"
      ],
      "metadata": {
        "colab": {
          "base_uri": "https://localhost:8080/"
        },
        "id": "i1i2aYAc7Dnf",
        "outputId": "c88554f0-dfc6-4151-870e-7622dc769da6"
      },
      "execution_count": null,
      "outputs": [
        {
          "output_type": "stream",
          "name": "stdout",
          "text": [
            "Hello, Black World\n",
            "What’s good\n"
          ]
        }
      ]
    }
  ]
}