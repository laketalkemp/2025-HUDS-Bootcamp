{
  "nbformat": 4,
  "nbformat_minor": 0,
  "metadata": {
    "colab": {
      "provenance": [],
      "include_colab_link": true
    },
    "kernelspec": {
      "name": "python3",
      "display_name": "Python 3"
    },
    "language_info": {
      "name": "python"
    }
  },
  "cells": [
    {
      "cell_type": "markdown",
      "metadata": {
        "id": "view-in-github",
        "colab_type": "text"
      },
      "source": [
        "<a href=\"https://colab.research.google.com/github/laketalkemp/2025-HUDS-Bootcamp/blob/main/ConditionalStatementsPractice.ipynb\" target=\"_parent\"><img src=\"https://colab.research.google.com/assets/colab-badge.svg\" alt=\"Open In Colab\"/></a>"
      ]
    },
    {
      "cell_type": "markdown",
      "source": [
        "The way in which the logic is written is important. If the condition is evaluated and the result is always `False`, the logic will exit without execution. Look at the cell below, try changing the logic to see if you have a different result with each run."
      ],
      "metadata": {
        "id": "rJDFCWSpzSM9"
      }
    },
    {
      "cell_type": "code",
      "execution_count": 3,
      "metadata": {
        "id": "cekChtY6T3vk"
      },
      "outputs": [],
      "source": [
        "if 5 < 4:\n",
        "    print(\"1st command if organ\")\n",
        "    print(\"2nd cojhvjluyluygyu\")"
      ]
    },
    {
      "cell_type": "markdown",
      "source": [
        "Conditions can be setup so that the logic has multiple options to run. The Python `or` operator allows one or the other of the conditions to be true and achieve a run through the program. When both of the conditions are `False` the program will exit without executing the print statements.\n",
        "\n",
        "```\n",
        "True or False = True\n",
        "True or True = True\n",
        "False or True = True\n",
        "False or False = False\n",
        "```\n",
        "\n",
        "Knowing the conditions under which the result is evaluated, change the conditions or the values to see what the results are. Add markdown to your fields to give yourself an understanding of what the code actions are."
      ],
      "metadata": {
        "id": "aSKzfutYznwU"
      }
    },
    {
      "cell_type": "code",
      "source": [
        "x = -5\n",
        "y = 10\n",
        "if x > 0 or y > 0:\n",
        "  print (\"Both x and y are positive\")\n",
        "  print (\"Atleast one condition failed\")"
      ],
      "metadata": {
        "colab": {
          "base_uri": "https://localhost:8080/"
        },
        "id": "rIJudDyKUQAM",
        "outputId": "363e8733-6834-4d72-8866-dee6f3208ff3"
      },
      "execution_count": 2,
      "outputs": [
        {
          "output_type": "stream",
          "name": "stdout",
          "text": [
            "Both x and y are positive\n",
            "Atleast one condition failed\n"
          ]
        }
      ]
    },
    {
      "cell_type": "markdown",
      "source": [
        "The `!` exclamation point is used in Python to represent the operator `not`. It works the same as `not` for numeric values. Try changing the values to see what happens when the statement evaluates as `False`."
      ],
      "metadata": {
        "id": "ms4949oU0W4b"
      }
    },
    {
      "cell_type": "code",
      "source": [
        "if 7 != 10:\n",
        "    print(\"The above statement is true\")\n",
        "    print(\"This is not related to the if statement\")\n"
      ],
      "metadata": {
        "colab": {
          "base_uri": "https://localhost:8080/"
        },
        "id": "UvjLrsfo-xg4",
        "outputId": "8fab3412-b208-42a6-9117-0e150fca443f"
      },
      "execution_count": null,
      "outputs": [
        {
          "output_type": "stream",
          "name": "stdout",
          "text": [
            "The above statement is true\n",
            "This is not related to the if statement\n"
          ]
        }
      ]
    },
    {
      "cell_type": "markdown",
      "source": [
        "Logic can be combined in a single statement or multiple conditions can be designated, each with a different outcome. Try changing the grade and running the code again to see the change in the output."
      ],
      "metadata": {
        "id": "iMl9NRy50srf"
      }
    },
    {
      "cell_type": "code",
      "source": [
        "grade = 70\n",
        "\n",
        "if grade > 70:\n",
        "    print(\"Congrats, you passed the class\")\n",
        "\n",
        "if grade <= 70:\n",
        "    print(\"Condolences, you did not pass the class\")\n"
      ],
      "metadata": {
        "colab": {
          "base_uri": "https://localhost:8080/"
        },
        "id": "cm8MRm8c_Ah1",
        "outputId": "867218c9-004f-4c61-b12d-ee5a19ac285e"
      },
      "execution_count": null,
      "outputs": [
        {
          "output_type": "stream",
          "name": "stdout",
          "text": [
            "Condolences, you did not pass the class\n"
          ]
        }
      ]
    },
    {
      "cell_type": "markdown",
      "source": [
        "The `if` `else` combination gives the conditional logic statement an action to perform when the condition evaluates to `False`. Try changing the operator or the values to see the different outcomes."
      ],
      "metadata": {
        "id": "hRYPle6h05fQ"
      }
    },
    {
      "cell_type": "code",
      "source": [
        "if 5 > 4:\n",
        "    print(\"The boolean expression is true\")\n",
        "else:\n",
        "    print(\"The boolean expression is false\")\n"
      ],
      "metadata": {
        "colab": {
          "base_uri": "https://localhost:8080/"
        },
        "id": "KcErkDdtBM3H",
        "outputId": "d5d05378-1743-46d8-a2b8-4293354b3dfc"
      },
      "execution_count": null,
      "outputs": [
        {
          "output_type": "stream",
          "name": "stdout",
          "text": [
            "The boolean expression is true\n"
          ]
        }
      ]
    },
    {
      "cell_type": "markdown",
      "source": [
        "The conditional logic is evaluation of a Boolean statement. When the Boolean values are True the statement evalutes and performs the action in the `if` statement. When the Boolean evaluates as `False`, the `else` action is performed. Notice the else option does not require conditions. The Boolean is a binary choice, `True` or `False` and thus if it is not `True` it is automatically evaluated as `False`. The `else` statement represents the action for the `False` condition."
      ],
      "metadata": {
        "id": "L_kUWPFX1H7Z"
      }
    },
    {
      "cell_type": "code",
      "source": [
        "my_bool = True\n",
        "\n",
        "if my_bool:\n",
        "    print(\"The value of my_bool is true\")\n",
        "else:\n",
        "    print(\"The value of my_bool is false\")\n"
      ],
      "metadata": {
        "colab": {
          "base_uri": "https://localhost:8080/"
        },
        "id": "y9vSIep4BgMV",
        "outputId": "148244ca-9693-4da4-9731-4b246d9e89b1"
      },
      "execution_count": null,
      "outputs": [
        {
          "output_type": "stream",
          "name": "stdout",
          "text": [
            "The value of my_bool is true\n"
          ]
        }
      ]
    },
    {
      "cell_type": "markdown",
      "source": [
        "Mathematical operators can be combined in the logic to evaluate numeric values. This allows Python to perform math calculations and choose a direction the action schould take when the calculation evaluates as `True` or `False`. Alter the values for the variable `num = 4` to see if you can alter the result."
      ],
      "metadata": {
        "id": "fuywXlGE1ooe"
      }
    },
    {
      "cell_type": "code",
      "source": [
        "num = 4\n",
        "\n",
        "if num % 2 == 0:\n",
        "    print(str(num) + \" is an even number\")\n",
        "else:\n",
        "    print(str(num) + \" is an odd number\")\n"
      ],
      "metadata": {
        "colab": {
          "base_uri": "https://localhost:8080/"
        },
        "id": "q-wMZNW-Bpt-",
        "outputId": "0f6021a0-5459-477e-a7a4-215acd9fd9f1"
      },
      "execution_count": null,
      "outputs": [
        {
          "output_type": "stream",
          "name": "stdout",
          "text": [
            "4 is an even number\n"
          ]
        }
      ]
    },
    {
      "cell_type": "markdown",
      "source": [
        "Multiple conditions can be evaluated when using the `if`, `elif`, and `else` conditions. The condition is evaluated at the `if` statement. When the `if` sttement is evaluated as `True` the action is executed and exits. When the `if` statement evaluates as `False`, Python then moves to evaluate the firsrt `elif` statement. A conditional logic can have multiple `elif` statements and even layers below each `elif` statement to evaluate for branches in the logic. Each `elif` statement has conditions to evaluate and when all of the elif statements are evaluated and found `False`, the `else` statement is then executed. Notice the `else` statement does not have any logic, by the time Python reaches the `else` statement, all options point to `False` anfd the `else` statement represents the result when all options evaluate to `False`. Try changing the value of the variable `a = 500` to meet the other possible outcomes."
      ],
      "metadata": {
        "id": "u1OUTjeX2ANK"
      }
    },
    {
      "cell_type": "code",
      "source": [
        "a = 500\n",
        "b = \"July\"\n",
        "\n",
        "if a < 10:\n",
        "    print(str(a) + \" is less than 10\")\n",
        "elif a < 20:\n",
        "    print(str(a) + \" is less than 20\")\n",
        "elif a < 30:\n",
        "    print(str(a) + \" less than 30\")\n",
        "else:\n",
        "    print(str(a) + \" is greater than 30 \"+ b)\n",
        "    print(b)\n"
      ],
      "metadata": {
        "colab": {
          "base_uri": "https://localhost:8080/"
        },
        "id": "uMM_t49-C6yw",
        "outputId": "cbcc1383-7c0d-406a-9f79-3897187ac9a7"
      },
      "execution_count": null,
      "outputs": [
        {
          "output_type": "stream",
          "name": "stdout",
          "text": [
            "500 is greater than 30 July\n",
            "July\n"
          ]
        }
      ]
    },
    {
      "cell_type": "markdown",
      "source": [
        "The `in` operator is another logic operator used when evaluating numeric or string values. Here, there is a list of Black artists created. The logic then evaluates if an artist is present in the list. Python reads the string and iterates through the list seeking an EXACT match to the artist in the list. Try adding names to the list in the same format and updating the conditions to meet each possible outcome."
      ],
      "metadata": {
        "id": "3vX0vJzQ3EFb"
      }
    },
    {
      "cell_type": "code",
      "source": [
        "# create a list of Black artists\n",
        "black_artists = [\"Jean-Michel Basquiat\", \"Romare Bearden\",\"Kara Walker\", \"Lorna Simpson\", \"Kerry James Marshall\"]\n",
        "\n",
        "# check for 'Kehinde Wiley'\n",
        "if 'Kehinde Wiley' in black_artists:\n",
        "  print('Kehinde Wiley is on the list')\n",
        "else:\n",
        "  print('Kehinde Wiley is not on the list')\n",
        "\n",
        "\n"
      ],
      "metadata": {
        "colab": {
          "base_uri": "https://localhost:8080/"
        },
        "id": "u8ngGfI-Hdmc",
        "outputId": "c74f7893-c515-461b-db01-29ef6a00c469"
      },
      "execution_count": null,
      "outputs": [
        {
          "output_type": "stream",
          "name": "stdout",
          "text": [
            "Kehinde Wiley is not on the list\n"
          ]
        }
      ]
    },
    {
      "cell_type": "markdown",
      "source": [
        "The input statement allows the programmer to request information from the user. The user is prompted with the statement in the parentheses and the program waits for an answer followed by the enter or return key on the keyboard. If the answer is not received, the program will timeout and return an error message. Try entering names or even values to see how Python uses the input statement."
      ],
      "metadata": {
        "id": "X02BF6ko3f7p"
      }
    },
    {
      "cell_type": "code",
      "source": [
        "name = input(\"What is your name?\")\n",
        "print(name)"
      ],
      "metadata": {
        "colab": {
          "base_uri": "https://localhost:8080/"
        },
        "id": "OpJTix0FL5IW",
        "outputId": "6c3a6ced-b0de-4752-90ae-486680c69d45"
      },
      "execution_count": null,
      "outputs": [
        {
          "output_type": "stream",
          "name": "stdout",
          "text": [
            "What is your name?Amy \n",
            "Amy \n"
          ]
        }
      ]
    }
  ]
}