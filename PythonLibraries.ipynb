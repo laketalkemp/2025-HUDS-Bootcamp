{
  "nbformat": 4,
  "nbformat_minor": 0,
  "metadata": {
    "colab": {
      "provenance": [],
      "include_colab_link": true
    },
    "kernelspec": {
      "name": "python3",
      "display_name": "Python 3"
    },
    "language_info": {
      "name": "python"
    }
  },
  "cells": [
    {
      "cell_type": "markdown",
      "metadata": {
        "id": "view-in-github",
        "colab_type": "text"
      },
      "source": [
        "<a href=\"https://colab.research.google.com/github/laketalkemp/2025-HUDS-Bootcamp/blob/main/PythonLibraries.ipynb\" target=\"_parent\"><img src=\"https://colab.research.google.com/assets/colab-badge.svg\" alt=\"Open In Colab\"/></a>"
      ]
    },
    {
      "cell_type": "code",
      "source": [
        "# Mount the Google Drive.\n",
        "from google.colab import drive\n",
        "drive.mount('/content/drive', force_remount=True)"
      ],
      "metadata": {
        "colab": {
          "base_uri": "https://localhost:8080/"
        },
        "id": "J8yAiuoiDIOs",
        "outputId": "16e6e55f-52b9-4cf9-a514-9bc6eb1950fd"
      },
      "execution_count": null,
      "outputs": [
        {
          "output_type": "stream",
          "name": "stdout",
          "text": [
            "Mounted at /content/drive\n"
          ]
        }
      ]
    },
    {
      "cell_type": "code",
      "source": [
        "# Make the markdown conversion\n",
        "!jupyter nbconvert --to markdown \"/content/drive/My Drive/Colab Notebooks/PythonLibraries.ipynb\""
      ],
      "metadata": {
        "colab": {
          "base_uri": "https://localhost:8080/"
        },
        "id": "K2_2IZOJDBmA",
        "outputId": "4ad9ddbc-512f-4d46-a863-dc8c3f350216"
      },
      "execution_count": null,
      "outputs": [
        {
          "output_type": "stream",
          "name": "stdout",
          "text": [
            "[NbConvertApp] Converting notebook /content/drive/My Drive/Colab Notebooks/PythonLibraries.ipynb to markdown\n",
            "[NbConvertApp] Writing 30487 bytes to /content/drive/My Drive/Colab Notebooks/PythonLibraries.md\n"
          ]
        }
      ]
    },
    {
      "cell_type": "markdown",
      "source": [
        "# Python Libraries\n",
        "One of the most powerful features of Python is the ability to extend the baseline functionality with libraries. The library is a collection of methods that are often surrounding a particular feature or objective. There are libraries for mathematical functions `math`, scientific python `scipy`, dataframe libraries `pandas`, numerical handling and matrices `numpy`, plotting libraries for creating graphs `matplotlib` and other specialized libraries.\n",
        "\n",
        "To gain use of a library it must first be installed. Python has several ways to install a library but the most comom is the `pip install` command followed by the library name. This action only needs to be performed once and your code environment will have access to those methods."
      ],
      "metadata": {
        "id": "QQcu8e1rMsvy"
      }
    },
    {
      "cell_type": "markdown",
      "source": [
        "## `pip install` Library Method\n",
        "The pip is an acronym for Python Install Packages. When combined with the install command it will install the library called directly following. For instance, to install the math library named `math`, we would type `pip install math` and execute the cell. Python will find the module for the installer and begin unpacking the files, installing the library contents, and makes them available for use. It is important to note, the pip install should be run in a cell alone and without markup. The markup causes the pip install to fail and combining multiple pip installs can be okay but you will miss some of the essential messages at the end when it rapidly moves on to the next install.\n",
        "\n",
        "Pay attention to the information it states at the end of the install. Some libraries require you to restart your kernel before the packages are available for use. In most IDEs you would select Runtime from the file menu and select Restart Kernel. When you choose to restart the kernel any variables and their values will be discarded so those cells would need to be run again. Typically we install all the libraries in a separate notebook so that our working notebook is not cluttered with the installer data.\n",
        "\n",
        "## Let's install some libraries.\n",
        "We will begin with the numpy. Numpy is Numerical Python and is used to restructure data. Many of the other libraries requires numpy as an underlying framework to perform their advanced calculations as it is a powerful way to manipulate large quantities of numbers with speed."
      ],
      "metadata": {
        "id": "VGzD-DgBNozC"
      }
    },
    {
      "cell_type": "code",
      "execution_count": null,
      "metadata": {
        "colab": {
          "base_uri": "https://localhost:8080/"
        },
        "id": "U1fIUY1gMGGn",
        "outputId": "495c31f7-aa7b-400c-f0f3-33472f31a11c"
      },
      "outputs": [
        {
          "output_type": "stream",
          "name": "stdout",
          "text": [
            "Requirement already satisfied: numpy in /usr/local/lib/python3.10/dist-packages (1.25.2)\n"
          ]
        }
      ],
      "source": [
        "pip install numpy"
      ]
    },
    {
      "cell_type": "markdown",
      "source": [
        "Next we will move on to Pandas. This library is used to create and manipulate dataframes. So far we have seen data in lists and dictionaries. Pandas answers the question of what would we do if we had hundreds of lists, each with hundreds of thousands (or many more) values but we wanted to see them all in one place. Pandas allows you to see the data in a dataframe or an organized representation of the data that can be manipulated and changed to suit the need of your analysis. Data Science relies heavily on Numpy and Pandas as the underlying framework for all of our analyses. Even our machine learning models require Numpy and Pandas to perform their work."
      ],
      "metadata": {
        "id": "p6RRX2uYQAkW"
      }
    },
    {
      "cell_type": "code",
      "source": [
        "pip install pandas"
      ],
      "metadata": {
        "colab": {
          "base_uri": "https://localhost:8080/"
        },
        "id": "gZrZvZ8gPmxq",
        "outputId": "c3bab5a1-d6c2-49d4-c401-2b69a0c83b9f"
      },
      "execution_count": null,
      "outputs": [
        {
          "output_type": "stream",
          "name": "stdout",
          "text": [
            "Requirement already satisfied: pandas in /usr/local/lib/python3.10/dist-packages (2.0.3)\n",
            "Requirement already satisfied: python-dateutil>=2.8.2 in /usr/local/lib/python3.10/dist-packages (from pandas) (2.8.2)\n",
            "Requirement already satisfied: pytz>=2020.1 in /usr/local/lib/python3.10/dist-packages (from pandas) (2023.4)\n",
            "Requirement already satisfied: tzdata>=2022.1 in /usr/local/lib/python3.10/dist-packages (from pandas) (2024.1)\n",
            "Requirement already satisfied: numpy>=1.21.0 in /usr/local/lib/python3.10/dist-packages (from pandas) (1.25.2)\n",
            "Requirement already satisfied: six>=1.5 in /usr/local/lib/python3.10/dist-packages (from python-dateutil>=2.8.2->pandas) (1.16.0)\n"
          ]
        }
      ]
    },
    {
      "cell_type": "markdown",
      "source": [
        "## Visualization Libraries\n",
        "The next library we will use the most in our analyses are libraries for generating graphs or visualizations. Each of these visualization libraries has a different strength and they are frequently used for different applications.\n",
        "\n",
        "### Matplotlib\n",
        "Matplotlib runs on the pyplot framework so the foundation of all of our visualization libraries is pyplot. The most basic is matplotlib which generates a simple two-dimensional graph that is static. The user cannot interact with the image it renders, it is a snapshot of the data in that exact moment. If the data changed the graph would need to be run again to see the new changes. While it is basic there are many options to how the plots are rendered. The data scientist has control over the colors, the grid, the size of the plot, the size of the data in the plot, the scaling, axes, titles, and legend."
      ],
      "metadata": {
        "id": "nCoCcUR3Q4dK"
      }
    },
    {
      "cell_type": "code",
      "source": [
        "pip install matplotlib"
      ],
      "metadata": {
        "colab": {
          "base_uri": "https://localhost:8080/"
        },
        "id": "kc49TgCrPG0W",
        "outputId": "533b4416-957f-4708-d3a6-29973c042310"
      },
      "execution_count": null,
      "outputs": [
        {
          "output_type": "stream",
          "name": "stdout",
          "text": [
            "Requirement already satisfied: matplotlib in /usr/local/lib/python3.10/dist-packages (3.7.1)\n",
            "Requirement already satisfied: contourpy>=1.0.1 in /usr/local/lib/python3.10/dist-packages (from matplotlib) (1.2.1)\n",
            "Requirement already satisfied: cycler>=0.10 in /usr/local/lib/python3.10/dist-packages (from matplotlib) (0.12.1)\n",
            "Requirement already satisfied: fonttools>=4.22.0 in /usr/local/lib/python3.10/dist-packages (from matplotlib) (4.53.0)\n",
            "Requirement already satisfied: kiwisolver>=1.0.1 in /usr/local/lib/python3.10/dist-packages (from matplotlib) (1.4.5)\n",
            "Requirement already satisfied: numpy>=1.20 in /usr/local/lib/python3.10/dist-packages (from matplotlib) (1.25.2)\n",
            "Requirement already satisfied: packaging>=20.0 in /usr/local/lib/python3.10/dist-packages (from matplotlib) (24.0)\n",
            "Requirement already satisfied: pillow>=6.2.0 in /usr/local/lib/python3.10/dist-packages (from matplotlib) (9.4.0)\n",
            "Requirement already satisfied: pyparsing>=2.3.1 in /usr/local/lib/python3.10/dist-packages (from matplotlib) (3.1.2)\n",
            "Requirement already satisfied: python-dateutil>=2.7 in /usr/local/lib/python3.10/dist-packages (from matplotlib) (2.8.2)\n",
            "Requirement already satisfied: six>=1.5 in /usr/local/lib/python3.10/dist-packages (from python-dateutil>=2.7->matplotlib) (1.16.0)\n"
          ]
        }
      ]
    },
    {
      "cell_type": "markdown",
      "source": [
        "### Seaborn\n",
        "Seaborn is the level up to matplotlib. While still a static graph, seaborn expands on the type of graphs that are available to include more complexity and can even render three dimensional graphs in a two dimensional space. The user cannot interact with these but the options for seaborn are only limited by the skill of the programmer. Seaborn can use color gradients to identify small changes in data not available in matplotlib. There are advanced statistics graphs in seaborn such as heatmaps that allow you to visualize correlation between variables and determine relationships.\n",
        "\n",
        "**(Always remember correlation does not imply or result in causation, just a relatedness between variables).**\n",
        "\n",
        "A favorite feature of seaborn is the graph tiling. You can introduce complex graphs all in one render so that you can see six or more representations of the data by calling a single type of plot."
      ],
      "metadata": {
        "id": "SWDcZs18SpMA"
      }
    },
    {
      "cell_type": "code",
      "source": [
        "pip install seaborn"
      ],
      "metadata": {
        "colab": {
          "base_uri": "https://localhost:8080/"
        },
        "id": "7tlFx2dYSnun",
        "outputId": "f5dc44c5-908a-4c72-8444-5f5befe43c8e"
      },
      "execution_count": null,
      "outputs": [
        {
          "output_type": "stream",
          "name": "stdout",
          "text": [
            "Requirement already satisfied: seaborn in /usr/local/lib/python3.10/dist-packages (0.13.1)\n",
            "Requirement already satisfied: numpy!=1.24.0,>=1.20 in /usr/local/lib/python3.10/dist-packages (from seaborn) (1.25.2)\n",
            "Requirement already satisfied: pandas>=1.2 in /usr/local/lib/python3.10/dist-packages (from seaborn) (2.0.3)\n",
            "Requirement already satisfied: matplotlib!=3.6.1,>=3.4 in /usr/local/lib/python3.10/dist-packages (from seaborn) (3.7.1)\n",
            "Requirement already satisfied: contourpy>=1.0.1 in /usr/local/lib/python3.10/dist-packages (from matplotlib!=3.6.1,>=3.4->seaborn) (1.2.1)\n",
            "Requirement already satisfied: cycler>=0.10 in /usr/local/lib/python3.10/dist-packages (from matplotlib!=3.6.1,>=3.4->seaborn) (0.12.1)\n",
            "Requirement already satisfied: fonttools>=4.22.0 in /usr/local/lib/python3.10/dist-packages (from matplotlib!=3.6.1,>=3.4->seaborn) (4.53.0)\n",
            "Requirement already satisfied: kiwisolver>=1.0.1 in /usr/local/lib/python3.10/dist-packages (from matplotlib!=3.6.1,>=3.4->seaborn) (1.4.5)\n",
            "Requirement already satisfied: packaging>=20.0 in /usr/local/lib/python3.10/dist-packages (from matplotlib!=3.6.1,>=3.4->seaborn) (24.0)\n",
            "Requirement already satisfied: pillow>=6.2.0 in /usr/local/lib/python3.10/dist-packages (from matplotlib!=3.6.1,>=3.4->seaborn) (9.4.0)\n",
            "Requirement already satisfied: pyparsing>=2.3.1 in /usr/local/lib/python3.10/dist-packages (from matplotlib!=3.6.1,>=3.4->seaborn) (3.1.2)\n",
            "Requirement already satisfied: python-dateutil>=2.7 in /usr/local/lib/python3.10/dist-packages (from matplotlib!=3.6.1,>=3.4->seaborn) (2.8.2)\n",
            "Requirement already satisfied: pytz>=2020.1 in /usr/local/lib/python3.10/dist-packages (from pandas>=1.2->seaborn) (2023.4)\n",
            "Requirement already satisfied: tzdata>=2022.1 in /usr/local/lib/python3.10/dist-packages (from pandas>=1.2->seaborn) (2024.1)\n",
            "Requirement already satisfied: six>=1.5 in /usr/local/lib/python3.10/dist-packages (from python-dateutil>=2.7->matplotlib!=3.6.1,>=3.4->seaborn) (1.16.0)\n"
          ]
        }
      ]
    },
    {
      "cell_type": "markdown",
      "source": [
        "The advanced libraries allow a user to manipulate the scaling, isolate specific variables, change the axes, manipulate the colors, and even generate three dimensional plots the user can spin around in many different directions to see insights that may have been hidden when the data was flattened. While these sound amazing (and they are) a data scientist must consider the size of their data and how much computing power it takes to generate those plots. We call this **Computational Cost** which factors in how powerful the computer must be to make the plots, how much electricity it takes to churn through the data to create them, and how much power the user needs in their device to see the visualization. There are many more visualization libraries to choose from and more created every month. A few more to investigate for very advanced plots are:\n",
        "* *Bokeh*, a javascript based python library that allows the charts to be embedded in a web page and adds dynamic capability.\n",
        "* *Plotly*, a javascript based python library that is used to generate three dimensional plots, interactive plots, and opens up even more options than seaborn for how to display the data. The charts are rendered in the coding environment and features an exploded view, where clicking on a specific data point, bar, or pie slice will expand the data to the full chart window allowing deeper insights into data. The user can draw a box around data points and isolate a region in the graph in the exploded view to investigate outliers. The three dimensional plots spin on axis and can be rotated through the x, y, and z axis so that the data can be seen in any angle.\n",
        "* *Flourish*, this is a rising data science library that adds functionality through new graph types almost weekly. It is not unheard of to be working in Flourish and have a new chart type added while you are working. This library combines the features of seaborn, plotly, and bokeh with an open-source feel. This means if you program a new chart type you can add it to the library for other developers to use. Because of the open-source feel it is expanding rapidly and often features hybrid plots that would not have been previously used.\n",
        "* *d3js*, this is just as you imagine, a javascript based python library that features everything Bokeh and plotly offer but runs faster and smoother with extremely large (+10mil data points) data that is also wide data (wide data features greater than 100 columns wide with many rows of data values)."
      ],
      "metadata": {
        "id": "130XPvt0UETJ"
      }
    },
    {
      "cell_type": "code",
      "source": [
        "pip install plotly"
      ],
      "metadata": {
        "colab": {
          "base_uri": "https://localhost:8080/"
        },
        "id": "F2rYbP7LUBq1",
        "outputId": "90ee9ac2-da89-4eaa-cb49-60ebf98d3c80"
      },
      "execution_count": null,
      "outputs": [
        {
          "output_type": "stream",
          "name": "stdout",
          "text": [
            "Requirement already satisfied: plotly in /usr/local/lib/python3.10/dist-packages (5.15.0)\n",
            "Requirement already satisfied: tenacity>=6.2.0 in /usr/local/lib/python3.10/dist-packages (from plotly) (8.3.0)\n",
            "Requirement already satisfied: packaging in /usr/local/lib/python3.10/dist-packages (from plotly) (24.0)\n"
          ]
        }
      ]
    },
    {
      "cell_type": "markdown",
      "source": [
        "## Scientific Python\n",
        "Python is a mathematical coding language with a tremendous ability to handle enromous amounts of data in numerical format. Scientific processes use numbers to measure just about everything in our natural environment on this planet and off world. There is a process for just about everything we would have calculated by hand or with advanced calculators in the python scientific libraries SciPy and Sklearn. SciPy's strength is the ability to read code from scientific equipment which is often in older languages like C++, Fortran, or C. In data science we mostly use it to optimize our algorithms and for advanced math calculations and statistics."
      ],
      "metadata": {
        "id": "hHosgzVqXjVj"
      }
    },
    {
      "cell_type": "code",
      "source": [
        "pip install scipy"
      ],
      "metadata": {
        "colab": {
          "base_uri": "https://localhost:8080/"
        },
        "id": "2L_XBSACXgNx",
        "outputId": "b32656d7-d30b-4bd7-97ec-e25f2a3d51a8"
      },
      "execution_count": null,
      "outputs": [
        {
          "output_type": "stream",
          "name": "stdout",
          "text": [
            "Requirement already satisfied: scipy in /usr/local/lib/python3.10/dist-packages (1.11.4)\n",
            "Requirement already satisfied: numpy<1.28.0,>=1.21.6 in /usr/local/lib/python3.10/dist-packages (from scipy) (1.25.2)\n"
          ]
        }
      ]
    },
    {
      "cell_type": "markdown",
      "source": [
        "## Sci-kit learn\n",
        "This is a machine learning library used for modeling. It features modules to classify items based on their shared properties, cluster similar items into groups to identify their properties, use the statistics of the sample to predict the next outcome with regression. It is used mostly for pre-processing data, that is to perform scaling for data or to reduce the number of variables in a machine learning application."
      ],
      "metadata": {
        "id": "6U9Yx-yCvdWI"
      }
    },
    {
      "cell_type": "markdown",
      "source": [
        "# Importing Libraries\n",
        "Once we know what type of data we are working with and how the data should be manipulated we can begin installing libraries. Some versions of Python, depending on your coding environment, may come preloaded. The `math` module is a great example. This library comes preloaded in Python and only needs to be imported to use the methods.\n",
        "\n",
        "There are two ways to work with libraries, to import them all at the very beginning of your analysis in a single block with all of their required preferences or dependencies, or to install them in blocks where they are needed. For example if I installed them in the block where they would be needed I would import the visualization libraries when I was beginning the data visualizations and insights section of my analysis.\n",
        "\n",
        "Some libraries are very large and contain alot of methods which begin to take up some of your memory when you load them. It is possible to import just the module that you need from a library rather than the entire library. This is especially true if you only need one method in the library. In this case you use the Python keyword `from` to designate the library followed by the `import` method to state which method you want to load from the specified library."
      ],
      "metadata": {
        "id": "OX_Q5Vtcwtja"
      }
    },
    {
      "cell_type": "code",
      "source": [
        "# Let's import the math module\n",
        "import math\n",
        "\n",
        "# Use the factorial function to find the factorial of 64\n",
        "# In traditional math we would write this as 64!\n",
        "# We would then tediously multiply all the values, adding as we worked.\n",
        "math.factorial(64)"
      ],
      "metadata": {
        "colab": {
          "base_uri": "https://localhost:8080/"
        },
        "id": "tPgJfKccx_Qg",
        "outputId": "5d0cbbd4-34b1-4c24-bb6e-8dca67a8fc92"
      },
      "execution_count": null,
      "outputs": [
        {
          "output_type": "execute_result",
          "data": {
            "text/plain": [
              "126886932185884164103433389335161480802865516174545192198801894375214704230400000000000000"
            ]
          },
          "metadata": {},
          "execution_count": 9
        }
      ]
    },
    {
      "cell_type": "code",
      "source": [
        "# The math module also holds constants\n",
        "# How far do you know the value of pi?\n",
        "math.pi"
      ],
      "metadata": {
        "colab": {
          "base_uri": "https://localhost:8080/"
        },
        "id": "phLbLftjyihY",
        "outputId": "8f42c7ec-28a1-4d92-adce-adf74b146206"
      },
      "execution_count": null,
      "outputs": [
        {
          "output_type": "execute_result",
          "data": {
            "text/plain": [
              "3.141592653589793"
            ]
          },
          "metadata": {},
          "execution_count": 10
        }
      ]
    },
    {
      "cell_type": "code",
      "source": [
        "# The math module performs most all the math methods you can think of.\n",
        "# the help() method will return all the possible functions for a method or module\n",
        "help(math)"
      ],
      "metadata": {
        "colab": {
          "base_uri": "https://localhost:8080/"
        },
        "id": "kvH0Ybqzyrj8",
        "outputId": "d466312a-8756-41be-ec8c-76da83fa3db0"
      },
      "execution_count": null,
      "outputs": [
        {
          "output_type": "stream",
          "name": "stdout",
          "text": [
            "Help on built-in module math:\n",
            "\n",
            "NAME\n",
            "    math\n",
            "\n",
            "DESCRIPTION\n",
            "    This module provides access to the mathematical functions\n",
            "    defined by the C standard.\n",
            "\n",
            "FUNCTIONS\n",
            "    acos(x, /)\n",
            "        Return the arc cosine (measured in radians) of x.\n",
            "        \n",
            "        The result is between 0 and pi.\n",
            "    \n",
            "    acosh(x, /)\n",
            "        Return the inverse hyperbolic cosine of x.\n",
            "    \n",
            "    asin(x, /)\n",
            "        Return the arc sine (measured in radians) of x.\n",
            "        \n",
            "        The result is between -pi/2 and pi/2.\n",
            "    \n",
            "    asinh(x, /)\n",
            "        Return the inverse hyperbolic sine of x.\n",
            "    \n",
            "    atan(x, /)\n",
            "        Return the arc tangent (measured in radians) of x.\n",
            "        \n",
            "        The result is between -pi/2 and pi/2.\n",
            "    \n",
            "    atan2(y, x, /)\n",
            "        Return the arc tangent (measured in radians) of y/x.\n",
            "        \n",
            "        Unlike atan(y/x), the signs of both x and y are considered.\n",
            "    \n",
            "    atanh(x, /)\n",
            "        Return the inverse hyperbolic tangent of x.\n",
            "    \n",
            "    ceil(x, /)\n",
            "        Return the ceiling of x as an Integral.\n",
            "        \n",
            "        This is the smallest integer >= x.\n",
            "    \n",
            "    comb(n, k, /)\n",
            "        Number of ways to choose k items from n items without repetition and without order.\n",
            "        \n",
            "        Evaluates to n! / (k! * (n - k)!) when k <= n and evaluates\n",
            "        to zero when k > n.\n",
            "        \n",
            "        Also called the binomial coefficient because it is equivalent\n",
            "        to the coefficient of k-th term in polynomial expansion of the\n",
            "        expression (1 + x)**n.\n",
            "        \n",
            "        Raises TypeError if either of the arguments are not integers.\n",
            "        Raises ValueError if either of the arguments are negative.\n",
            "    \n",
            "    copysign(x, y, /)\n",
            "        Return a float with the magnitude (absolute value) of x but the sign of y.\n",
            "        \n",
            "        On platforms that support signed zeros, copysign(1.0, -0.0)\n",
            "        returns -1.0.\n",
            "    \n",
            "    cos(x, /)\n",
            "        Return the cosine of x (measured in radians).\n",
            "    \n",
            "    cosh(x, /)\n",
            "        Return the hyperbolic cosine of x.\n",
            "    \n",
            "    degrees(x, /)\n",
            "        Convert angle x from radians to degrees.\n",
            "    \n",
            "    dist(p, q, /)\n",
            "        Return the Euclidean distance between two points p and q.\n",
            "        \n",
            "        The points should be specified as sequences (or iterables) of\n",
            "        coordinates.  Both inputs must have the same dimension.\n",
            "        \n",
            "        Roughly equivalent to:\n",
            "            sqrt(sum((px - qx) ** 2.0 for px, qx in zip(p, q)))\n",
            "    \n",
            "    erf(x, /)\n",
            "        Error function at x.\n",
            "    \n",
            "    erfc(x, /)\n",
            "        Complementary error function at x.\n",
            "    \n",
            "    exp(x, /)\n",
            "        Return e raised to the power of x.\n",
            "    \n",
            "    expm1(x, /)\n",
            "        Return exp(x)-1.\n",
            "        \n",
            "        This function avoids the loss of precision involved in the direct evaluation of exp(x)-1 for small x.\n",
            "    \n",
            "    fabs(x, /)\n",
            "        Return the absolute value of the float x.\n",
            "    \n",
            "    factorial(x, /)\n",
            "        Find x!.\n",
            "        \n",
            "        Raise a ValueError if x is negative or non-integral.\n",
            "    \n",
            "    floor(x, /)\n",
            "        Return the floor of x as an Integral.\n",
            "        \n",
            "        This is the largest integer <= x.\n",
            "    \n",
            "    fmod(x, y, /)\n",
            "        Return fmod(x, y), according to platform C.\n",
            "        \n",
            "        x % y may differ.\n",
            "    \n",
            "    frexp(x, /)\n",
            "        Return the mantissa and exponent of x, as pair (m, e).\n",
            "        \n",
            "        m is a float and e is an int, such that x = m * 2.**e.\n",
            "        If x is 0, m and e are both 0.  Else 0.5 <= abs(m) < 1.0.\n",
            "    \n",
            "    fsum(seq, /)\n",
            "        Return an accurate floating point sum of values in the iterable seq.\n",
            "        \n",
            "        Assumes IEEE-754 floating point arithmetic.\n",
            "    \n",
            "    gamma(x, /)\n",
            "        Gamma function at x.\n",
            "    \n",
            "    gcd(*integers)\n",
            "        Greatest Common Divisor.\n",
            "    \n",
            "    hypot(...)\n",
            "        hypot(*coordinates) -> value\n",
            "        \n",
            "        Multidimensional Euclidean distance from the origin to a point.\n",
            "        \n",
            "        Roughly equivalent to:\n",
            "            sqrt(sum(x**2 for x in coordinates))\n",
            "        \n",
            "        For a two dimensional point (x, y), gives the hypotenuse\n",
            "        using the Pythagorean theorem:  sqrt(x*x + y*y).\n",
            "        \n",
            "        For example, the hypotenuse of a 3/4/5 right triangle is:\n",
            "        \n",
            "            >>> hypot(3.0, 4.0)\n",
            "            5.0\n",
            "    \n",
            "    isclose(a, b, *, rel_tol=1e-09, abs_tol=0.0)\n",
            "        Determine whether two floating point numbers are close in value.\n",
            "        \n",
            "          rel_tol\n",
            "            maximum difference for being considered \"close\", relative to the\n",
            "            magnitude of the input values\n",
            "          abs_tol\n",
            "            maximum difference for being considered \"close\", regardless of the\n",
            "            magnitude of the input values\n",
            "        \n",
            "        Return True if a is close in value to b, and False otherwise.\n",
            "        \n",
            "        For the values to be considered close, the difference between them\n",
            "        must be smaller than at least one of the tolerances.\n",
            "        \n",
            "        -inf, inf and NaN behave similarly to the IEEE 754 Standard.  That\n",
            "        is, NaN is not close to anything, even itself.  inf and -inf are\n",
            "        only close to themselves.\n",
            "    \n",
            "    isfinite(x, /)\n",
            "        Return True if x is neither an infinity nor a NaN, and False otherwise.\n",
            "    \n",
            "    isinf(x, /)\n",
            "        Return True if x is a positive or negative infinity, and False otherwise.\n",
            "    \n",
            "    isnan(x, /)\n",
            "        Return True if x is a NaN (not a number), and False otherwise.\n",
            "    \n",
            "    isqrt(n, /)\n",
            "        Return the integer part of the square root of the input.\n",
            "    \n",
            "    lcm(*integers)\n",
            "        Least Common Multiple.\n",
            "    \n",
            "    ldexp(x, i, /)\n",
            "        Return x * (2**i).\n",
            "        \n",
            "        This is essentially the inverse of frexp().\n",
            "    \n",
            "    lgamma(x, /)\n",
            "        Natural logarithm of absolute value of Gamma function at x.\n",
            "    \n",
            "    log(...)\n",
            "        log(x, [base=math.e])\n",
            "        Return the logarithm of x to the given base.\n",
            "        \n",
            "        If the base not specified, returns the natural logarithm (base e) of x.\n",
            "    \n",
            "    log10(x, /)\n",
            "        Return the base 10 logarithm of x.\n",
            "    \n",
            "    log1p(x, /)\n",
            "        Return the natural logarithm of 1+x (base e).\n",
            "        \n",
            "        The result is computed in a way which is accurate for x near zero.\n",
            "    \n",
            "    log2(x, /)\n",
            "        Return the base 2 logarithm of x.\n",
            "    \n",
            "    modf(x, /)\n",
            "        Return the fractional and integer parts of x.\n",
            "        \n",
            "        Both results carry the sign of x and are floats.\n",
            "    \n",
            "    nextafter(x, y, /)\n",
            "        Return the next floating-point value after x towards y.\n",
            "    \n",
            "    perm(n, k=None, /)\n",
            "        Number of ways to choose k items from n items without repetition and with order.\n",
            "        \n",
            "        Evaluates to n! / (n - k)! when k <= n and evaluates\n",
            "        to zero when k > n.\n",
            "        \n",
            "        If k is not specified or is None, then k defaults to n\n",
            "        and the function returns n!.\n",
            "        \n",
            "        Raises TypeError if either of the arguments are not integers.\n",
            "        Raises ValueError if either of the arguments are negative.\n",
            "    \n",
            "    pow(x, y, /)\n",
            "        Return x**y (x to the power of y).\n",
            "    \n",
            "    prod(iterable, /, *, start=1)\n",
            "        Calculate the product of all the elements in the input iterable.\n",
            "        \n",
            "        The default start value for the product is 1.\n",
            "        \n",
            "        When the iterable is empty, return the start value.  This function is\n",
            "        intended specifically for use with numeric values and may reject\n",
            "        non-numeric types.\n",
            "    \n",
            "    radians(x, /)\n",
            "        Convert angle x from degrees to radians.\n",
            "    \n",
            "    remainder(x, y, /)\n",
            "        Difference between x and the closest integer multiple of y.\n",
            "        \n",
            "        Return x - n*y where n*y is the closest integer multiple of y.\n",
            "        In the case where x is exactly halfway between two multiples of\n",
            "        y, the nearest even value of n is used. The result is always exact.\n",
            "    \n",
            "    sin(x, /)\n",
            "        Return the sine of x (measured in radians).\n",
            "    \n",
            "    sinh(x, /)\n",
            "        Return the hyperbolic sine of x.\n",
            "    \n",
            "    sqrt(x, /)\n",
            "        Return the square root of x.\n",
            "    \n",
            "    tan(x, /)\n",
            "        Return the tangent of x (measured in radians).\n",
            "    \n",
            "    tanh(x, /)\n",
            "        Return the hyperbolic tangent of x.\n",
            "    \n",
            "    trunc(x, /)\n",
            "        Truncates the Real x to the nearest Integral toward 0.\n",
            "        \n",
            "        Uses the __trunc__ magic method.\n",
            "    \n",
            "    ulp(x, /)\n",
            "        Return the value of the least significant bit of the float x.\n",
            "\n",
            "DATA\n",
            "    e = 2.718281828459045\n",
            "    inf = inf\n",
            "    nan = nan\n",
            "    pi = 3.141592653589793\n",
            "    tau = 6.283185307179586\n",
            "\n",
            "FILE\n",
            "    (built-in)\n",
            "\n",
            "\n"
          ]
        }
      ]
    },
    {
      "cell_type": "code",
      "source": [
        "# Let's find the square root of 7.567\n",
        "math.sqrt(7.567)"
      ],
      "metadata": {
        "colab": {
          "base_uri": "https://localhost:8080/"
        },
        "id": "8ZXfO-D1y0S5",
        "outputId": "9f21e373-1ed7-4017-e3d0-f5c584aa8566"
      },
      "execution_count": null,
      "outputs": [
        {
          "output_type": "execute_result",
          "data": {
            "text/plain": [
              "2.7508180601413827"
            ]
          },
          "metadata": {},
          "execution_count": 12
        }
      ]
    },
    {
      "cell_type": "code",
      "source": [
        "# We described the ** as raising a value to a power\n",
        "# The math module expands on this and allows more options\n",
        "print(34**90)\n",
        "print(math.pow(34,90))"
      ],
      "metadata": {
        "colab": {
          "base_uri": "https://localhost:8080/"
        },
        "id": "9wTzsdInzL_l",
        "outputId": "fd29ab20-d77c-4a0c-a8b8-6e008ef55604"
      },
      "execution_count": null,
      "outputs": [
        {
          "output_type": "stream",
          "name": "stdout",
          "text": [
            "680930102416499986048414095047261177801472171608919559294191318313337145561315486168658363733784220129274771779625390673536375328631422976\n",
            "6.809301024165e+137\n"
          ]
        }
      ]
    },
    {
      "cell_type": "code",
      "execution_count": null,
      "metadata": {
        "id": "OmS8Cp_39ZWU",
        "colab": {
          "base_uri": "https://localhost:8080/"
        },
        "outputId": "a0559e75-293a-442f-949a-114861693450"
      },
      "outputs": [
        {
          "output_type": "stream",
          "name": "stdout",
          "text": [
            "Mounted at /content/drive\n"
          ]
        }
      ],
      "source": [
        "# We can import just one part of a library\n",
        "# This uses the keyword from to establish a library then the import to state the method\n",
        "# Mount the Google Drive\n",
        "from google.colab import drive\n",
        "drive.mount('/content/drive', force_remount=True)"
      ]
    },
    {
      "cell_type": "code",
      "source": [
        "# We can place all of the other libraries in a single cell\n",
        "# Import the libraries\n",
        "import numpy as np                  # Scientific Computing\n",
        "import pandas as pd                 # Data Analysis\n",
        "import matplotlib.pyplot as plt     # Plotting\n",
        "import seaborn as sns               # Statistical Data Visualization\n",
        "\n",
        "# Library to suppress warnings\n",
        "import warnings\n",
        "warnings.filterwarnings('ignore')"
      ],
      "metadata": {
        "id": "G2fzG-hO0P6b"
      },
      "execution_count": null,
      "outputs": []
    }
  ]
}