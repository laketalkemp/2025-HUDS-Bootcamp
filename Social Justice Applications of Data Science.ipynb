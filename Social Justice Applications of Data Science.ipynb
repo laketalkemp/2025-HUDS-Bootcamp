{
  "nbformat": 4,
  "nbformat_minor": 0,
  "metadata": {
    "colab": {
      "provenance": [],
      "authorship_tag": "ABX9TyOJkW/m8gqOsBqhPZceCwRb",
      "include_colab_link": true
    },
    "kernelspec": {
      "name": "python3",
      "display_name": "Python 3"
    },
    "language_info": {
      "name": "python"
    }
  },
  "cells": [
    {
      "cell_type": "markdown",
      "metadata": {
        "id": "view-in-github",
        "colab_type": "text"
      },
      "source": [
        "<a href=\"https://colab.research.google.com/github/laketalkemp/2025-HUDS-Bootcamp/blob/main/Social%20Justice%20Applications%20of%20Data%20Science.ipynb\" target=\"_parent\"><img src=\"https://colab.research.google.com/assets/colab-badge.svg\" alt=\"Open In Colab\"/></a>"
      ]
    },
    {
      "cell_type": "markdown",
      "source": [
        "# What is Data Science?\n",
        "Data Science is an interdisciplinary field that involves using scientific methods processes, algorithms, and systems to extract knowledge and insights from structured and unstructured data.  The goal is to produce predictive algorithms and models to determine specific outcomes.  It is the combination of Computer Science, Math, Statistics, and Domain Knowledge to yield software development, research, and machine learning.\n",
        "\n",
        "# Why Data Science?\n",
        "Data Science is widely used in various industry domains, including marketing, healthcare, finance, banking, policy work, and more.  Data Science is important because it combines tools, methods, and technology to generate meaning from data.  This includes Image Recognition, Speech Recognition, Fraud Detection, Self-Driving Cars, Product Recommendation, Traffic Prediction.  \n",
        "\n",
        "# How Data Science is Used\n",
        "* Descriptive analysis to gain insights\n",
        "* Diagnostic analysis for deep dives into the data and the patterns.\n",
        "* Predictive analysis using data to generate accurate forecasts."
      ],
      "metadata": {
        "id": "g__4zQ_R_oYx"
      }
    },
    {
      "cell_type": "markdown",
      "source": [
        "# Social Justice Applications of Data Science\n",
        "The use of AI and other types of machine learning do not give equitable treatment to people of color.  Examples of harmful applications include incarceration and arrest of people of color from facial recognition software.  The use of chatBots as a form of AI that do not have appropriate responses that an actual human would advise (lack of humanity in responses lead to the chatBot recommending suicide.)\n",
        "\n",
        "## Data Terms\n",
        "* Data Science is using the data to generate predictions and statistical inference.\n",
        "* Data Journalism is using the data to tell the story of those involved in the data or whom the data represents.  \n",
        "* Data Visualization is the art of communicating data using images that represent the data.\n",
        "* Data Engineering is the design, maintenance, and management of the data.  This could be inclusive of data collection and sampling techniques.\n",
        "\n",
        "## The Data Science Process\n",
        "1. Identify the data problem.  This involves discovering, knowing, asking, and answering basic questions about the population.  \n",
        "2. Data Design.  This involves constructing the data as a solution to the problem.  This depends on what is needed and how it needs to be obtained.\n",
        "3. Data Collection.  This is gathering data from various sources such as databases, APIs, web scraping, and surveys.  \n",
        "4.  Data Cleaning.  This is involves preprocessing the data to ensure that it's accurate, complete, and consistent.  This includes tasks such as removing duplicates, filling in missing values and standardizing the format.  \n",
        "5.  Data Exploration involves exploring the data to gain a better understanding of its characteristics such as distribution, correlation, and outliers.  \n",
        "6.  Data Preparation involves selecting and transforming the features that will be used in the analysis.  This includes tasks such as feature engineering, normalization, and dimensionality reduction.  \n",
        "7.  Model Training involves selecting the appropriate machine learning model and training it on the data.  \n",
        "8.  Model Evaluation involves evaluating the performance of the model using various metrics and comparing it to other models.  \n",
        "9.  Model Deployment involves deplying the model into a production environment, such as web application or a database.\n"
      ],
      "metadata": {
        "id": "hjzqBNIB65zA"
      }
    }
  ]
}