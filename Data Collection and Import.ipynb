{
  "nbformat": 4,
  "nbformat_minor": 0,
  "metadata": {
    "colab": {
      "provenance": [],
      "authorship_tag": "ABX9TyMdawuvkO62/4tnrMVCL+hW",
      "include_colab_link": true
    },
    "kernelspec": {
      "name": "python3",
      "display_name": "Python 3"
    },
    "language_info": {
      "name": "python"
    }
  },
  "cells": [
    {
      "cell_type": "markdown",
      "metadata": {
        "id": "view-in-github",
        "colab_type": "text"
      },
      "source": [
        "<a href=\"https://colab.research.google.com/github/laketalkemp/2025-HUDS-Bootcamp/blob/main/Data%20Collection%20and%20Import.ipynb\" target=\"_parent\"><img src=\"https://colab.research.google.com/assets/colab-badge.svg\" alt=\"Open In Colab\"/></a>"
      ]
    },
    {
      "cell_type": "markdown",
      "source": [
        "# The goal with this practice assignment is to understand the initial code needed to import data from your data source.\n",
        "\n",
        "## Mount your Google Drive\n",
        "Begin with mounting your Google Drive. 1. Click the folder icon to the left.\n",
        "2. Click the grey folder with the Google Drive triangle logo.\n",
        "3. This will add a block of code to your notebook.\n",
        "\n",
        "```\n",
        "from google.colab import drive\n",
        "drive.mount('/content/drive', force_remount=True)\n",
        "```\n",
        "I add the `force_remount=True` boolean statement to ensure each time I run the block I have a stable connection to the Google Drive interface.\n",
        "\n",
        "4. Run the code cell. This will generate a popup window that asks the user to authorize Google Drive connection to Google Colab. Once all of the permissions are active this should return the statement ```Mounted at /content/drive```"
      ],
      "metadata": {
        "id": "zGFN4UGNWu--"
      }
    },
    {
      "cell_type": "code",
      "source": [],
      "metadata": {
        "id": "ZQQ3c6FtYXvL"
      },
      "execution_count": null,
      "outputs": []
    },
    {
      "cell_type": "markdown",
      "source": [
        "## Import your initial libraries.\n",
        "The initial libraries used in all data science applications are NumPy, Pandas, Matplotlib, and Seaborn. Import the libraries in the code block below.\n",
        "\n",
        "* Recall that matplotlib is installed as `matplotlib.pyplot`.\n",
        "* Use the alias np for NumPy.\n",
        "* Use the alias pd for Pandas.\n",
        "* Use the alias plt for Matplotlib.\n",
        "Use the alias sns for Seaborn."
      ],
      "metadata": {
        "id": "Gaa8zbe0YZX6"
      }
    },
    {
      "cell_type": "code",
      "source": [],
      "metadata": {
        "id": "xjBQBdxnY6Y8"
      },
      "execution_count": null,
      "outputs": []
    },
    {
      "cell_type": "markdown",
      "source": [
        "## Loading some data\n",
        "Now that the libraries are loaded it is time to load some data. You have mounted your Google Drive which allows you to seamlessly load data stored on your Google Drive.\n",
        "\n",
        "1. Click the folder icon to the left to open the files menu.\n",
        "2. click the arrow beside `drive` to view the contents.\n",
        "3. Click the arrow beside `My Drive` to view the contents.\n",
        "4. Click the arrow beside `Colab Notebooks` to view the contents.\n",
        "5. Select the filename you wish to load. Click the vertical three dots that appears as you hover over your file.\n",
        "6. Select `Copy path`.\n",
        "7. Create a variable called `path` and assign the value as the copied link. Be sure the value is enclosed in quotes.\n",
        "8. Create a new variable that will be a unique identifier for your data stored in the variable. Using the Syntax below, assign the data in the `path` variable to the new variable.\n",
        "```\n",
        "uniqueVariable = pd.read_csv(path)\n",
        "```\n",
        "9. To view the first five rows of the data we use the `dataFrameName.head()` where you can leave the parentheses empty for just the first five rows or add a number in the parentheses to view that number of rows. Try viewing the first eight rows of data."
      ],
      "metadata": {
        "id": "tFTMIlr9Y7I6"
      }
    },
    {
      "cell_type": "code",
      "source": [],
      "metadata": {
        "id": "sH-rCtD8qMZG"
      },
      "execution_count": null,
      "outputs": []
    },
    {
      "cell_type": "markdown",
      "source": [
        "Keep practicing with more datasets. You can use the sample datasets that come preloaded with Colab."
      ],
      "metadata": {
        "id": "qVDZonRPqNdT"
      }
    }
  ]
}